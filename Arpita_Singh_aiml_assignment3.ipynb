{
  "nbformat": 4,
  "nbformat_minor": 0,
  "metadata": {
    "colab": {
      "provenance": [],
      "authorship_tag": "ABX9TyPSUvzUeu/56qmyAdLI9Oqu",
      "include_colab_link": true
    },
    "kernelspec": {
      "name": "python3",
      "display_name": "Python 3"
    },
    "language_info": {
      "name": "python"
    },
    "widgets": {
      "application/vnd.jupyter.widget-state+json": {
        "1495fd135adf4e93b8cbd3c8c04faa06": {
          "model_module": "@jupyter-widgets/controls",
          "model_name": "FloatTextModel",
          "model_module_version": "1.5.0",
          "state": {
            "_dom_classes": [],
            "_model_module": "@jupyter-widgets/controls",
            "_model_module_version": "1.5.0",
            "_model_name": "FloatTextModel",
            "_view_count": null,
            "_view_module": "@jupyter-widgets/controls",
            "_view_module_version": "1.5.0",
            "_view_name": "FloatTextView",
            "continuous_update": false,
            "description": "sleep_hours",
            "description_tooltip": null,
            "disabled": false,
            "layout": "IPY_MODEL_39229debe3564ecd8dc63226b253b363",
            "step": null,
            "style": "IPY_MODEL_1daf45c188684100b940259be7e7e15f",
            "value": 5
          }
        },
        "39229debe3564ecd8dc63226b253b363": {
          "model_module": "@jupyter-widgets/base",
          "model_name": "LayoutModel",
          "model_module_version": "1.2.0",
          "state": {
            "_model_module": "@jupyter-widgets/base",
            "_model_module_version": "1.2.0",
            "_model_name": "LayoutModel",
            "_view_count": null,
            "_view_module": "@jupyter-widgets/base",
            "_view_module_version": "1.2.0",
            "_view_name": "LayoutView",
            "align_content": null,
            "align_items": null,
            "align_self": null,
            "border": null,
            "bottom": null,
            "display": null,
            "flex": null,
            "flex_flow": null,
            "grid_area": null,
            "grid_auto_columns": null,
            "grid_auto_flow": null,
            "grid_auto_rows": null,
            "grid_column": null,
            "grid_gap": null,
            "grid_row": null,
            "grid_template_areas": null,
            "grid_template_columns": null,
            "grid_template_rows": null,
            "height": null,
            "justify_content": null,
            "justify_items": null,
            "left": null,
            "margin": null,
            "max_height": null,
            "max_width": null,
            "min_height": null,
            "min_width": null,
            "object_fit": null,
            "object_position": null,
            "order": null,
            "overflow": null,
            "overflow_x": null,
            "overflow_y": null,
            "padding": null,
            "right": null,
            "top": null,
            "visibility": null,
            "width": null
          }
        },
        "1daf45c188684100b940259be7e7e15f": {
          "model_module": "@jupyter-widgets/controls",
          "model_name": "DescriptionStyleModel",
          "model_module_version": "1.5.0",
          "state": {
            "_model_module": "@jupyter-widgets/controls",
            "_model_module_version": "1.5.0",
            "_model_name": "DescriptionStyleModel",
            "_view_count": null,
            "_view_module": "@jupyter-widgets/base",
            "_view_module_version": "1.2.0",
            "_view_name": "StyleView",
            "description_width": ""
          }
        },
        "a513d08536534fcebd2991c7f8fe9e43": {
          "model_module": "@jupyter-widgets/controls",
          "model_name": "FloatTextModel",
          "model_module_version": "1.5.0",
          "state": {
            "_dom_classes": [],
            "_model_module": "@jupyter-widgets/controls",
            "_model_module_version": "1.5.0",
            "_model_name": "FloatTextModel",
            "_view_count": null,
            "_view_module": "@jupyter-widgets/controls",
            "_view_module_version": "1.5.0",
            "_view_name": "FloatTextView",
            "continuous_update": false,
            "description": "sleep_time",
            "description_tooltip": null,
            "disabled": false,
            "layout": "IPY_MODEL_c3cde203e5934d95a35800581d2f37d8",
            "step": null,
            "style": "IPY_MODEL_24d2f75dca8b4a6b96f589a2cf4e3700",
            "value": 2
          }
        },
        "c3cde203e5934d95a35800581d2f37d8": {
          "model_module": "@jupyter-widgets/base",
          "model_name": "LayoutModel",
          "model_module_version": "1.2.0",
          "state": {
            "_model_module": "@jupyter-widgets/base",
            "_model_module_version": "1.2.0",
            "_model_name": "LayoutModel",
            "_view_count": null,
            "_view_module": "@jupyter-widgets/base",
            "_view_module_version": "1.2.0",
            "_view_name": "LayoutView",
            "align_content": null,
            "align_items": null,
            "align_self": null,
            "border": null,
            "bottom": null,
            "display": null,
            "flex": null,
            "flex_flow": null,
            "grid_area": null,
            "grid_auto_columns": null,
            "grid_auto_flow": null,
            "grid_auto_rows": null,
            "grid_column": null,
            "grid_gap": null,
            "grid_row": null,
            "grid_template_areas": null,
            "grid_template_columns": null,
            "grid_template_rows": null,
            "height": null,
            "justify_content": null,
            "justify_items": null,
            "left": null,
            "margin": null,
            "max_height": null,
            "max_width": null,
            "min_height": null,
            "min_width": null,
            "object_fit": null,
            "object_position": null,
            "order": null,
            "overflow": null,
            "overflow_x": null,
            "overflow_y": null,
            "padding": null,
            "right": null,
            "top": null,
            "visibility": null,
            "width": null
          }
        },
        "24d2f75dca8b4a6b96f589a2cf4e3700": {
          "model_module": "@jupyter-widgets/controls",
          "model_name": "DescriptionStyleModel",
          "model_module_version": "1.5.0",
          "state": {
            "_model_module": "@jupyter-widgets/controls",
            "_model_module_version": "1.5.0",
            "_model_name": "DescriptionStyleModel",
            "_view_count": null,
            "_view_module": "@jupyter-widgets/base",
            "_view_module_version": "1.2.0",
            "_view_name": "StyleView",
            "description_width": ""
          }
        },
        "131df09055cb4c3a880b63e2ed9e920a": {
          "model_module": "@jupyter-widgets/controls",
          "model_name": "FloatTextModel",
          "model_module_version": "1.5.0",
          "state": {
            "_dom_classes": [],
            "_model_module": "@jupyter-widgets/controls",
            "_model_module_version": "1.5.0",
            "_model_name": "FloatTextModel",
            "_view_count": null,
            "_view_module": "@jupyter-widgets/controls",
            "_view_module_version": "1.5.0",
            "_view_name": "FloatTextView",
            "continuous_update": false,
            "description": "wake_up_time",
            "description_tooltip": null,
            "disabled": false,
            "layout": "IPY_MODEL_738f0dd56959489d98d02225fb7da605",
            "step": null,
            "style": "IPY_MODEL_bae191e09025441e91b949c491ad9abe",
            "value": 7
          }
        },
        "738f0dd56959489d98d02225fb7da605": {
          "model_module": "@jupyter-widgets/base",
          "model_name": "LayoutModel",
          "model_module_version": "1.2.0",
          "state": {
            "_model_module": "@jupyter-widgets/base",
            "_model_module_version": "1.2.0",
            "_model_name": "LayoutModel",
            "_view_count": null,
            "_view_module": "@jupyter-widgets/base",
            "_view_module_version": "1.2.0",
            "_view_name": "LayoutView",
            "align_content": null,
            "align_items": null,
            "align_self": null,
            "border": null,
            "bottom": null,
            "display": null,
            "flex": null,
            "flex_flow": null,
            "grid_area": null,
            "grid_auto_columns": null,
            "grid_auto_flow": null,
            "grid_auto_rows": null,
            "grid_column": null,
            "grid_gap": null,
            "grid_row": null,
            "grid_template_areas": null,
            "grid_template_columns": null,
            "grid_template_rows": null,
            "height": null,
            "justify_content": null,
            "justify_items": null,
            "left": null,
            "margin": null,
            "max_height": null,
            "max_width": null,
            "min_height": null,
            "min_width": null,
            "object_fit": null,
            "object_position": null,
            "order": null,
            "overflow": null,
            "overflow_x": null,
            "overflow_y": null,
            "padding": null,
            "right": null,
            "top": null,
            "visibility": null,
            "width": null
          }
        },
        "bae191e09025441e91b949c491ad9abe": {
          "model_module": "@jupyter-widgets/controls",
          "model_name": "DescriptionStyleModel",
          "model_module_version": "1.5.0",
          "state": {
            "_model_module": "@jupyter-widgets/controls",
            "_model_module_version": "1.5.0",
            "_model_name": "DescriptionStyleModel",
            "_view_count": null,
            "_view_module": "@jupyter-widgets/base",
            "_view_module_version": "1.2.0",
            "_view_name": "StyleView",
            "description_width": ""
          }
        },
        "5155a72cffe64861bd58dfe3f4673b57": {
          "model_module": "@jupyter-widgets/controls",
          "model_name": "FloatTextModel",
          "model_module_version": "1.5.0",
          "state": {
            "_dom_classes": [],
            "_model_module": "@jupyter-widgets/controls",
            "_model_module_version": "1.5.0",
            "_model_name": "FloatTextModel",
            "_view_count": null,
            "_view_module": "@jupyter-widgets/controls",
            "_view_module_version": "1.5.0",
            "_view_name": "FloatTextView",
            "continuous_update": false,
            "description": "exam_sleep_hours",
            "description_tooltip": null,
            "disabled": false,
            "layout": "IPY_MODEL_bcdf3b25ce2f440ca668b9bee9bb6af3",
            "step": null,
            "style": "IPY_MODEL_d164f2a5ad5d4b2096255ac3e3fafd5a",
            "value": 4
          }
        },
        "bcdf3b25ce2f440ca668b9bee9bb6af3": {
          "model_module": "@jupyter-widgets/base",
          "model_name": "LayoutModel",
          "model_module_version": "1.2.0",
          "state": {
            "_model_module": "@jupyter-widgets/base",
            "_model_module_version": "1.2.0",
            "_model_name": "LayoutModel",
            "_view_count": null,
            "_view_module": "@jupyter-widgets/base",
            "_view_module_version": "1.2.0",
            "_view_name": "LayoutView",
            "align_content": null,
            "align_items": null,
            "align_self": null,
            "border": null,
            "bottom": null,
            "display": null,
            "flex": null,
            "flex_flow": null,
            "grid_area": null,
            "grid_auto_columns": null,
            "grid_auto_flow": null,
            "grid_auto_rows": null,
            "grid_column": null,
            "grid_gap": null,
            "grid_row": null,
            "grid_template_areas": null,
            "grid_template_columns": null,
            "grid_template_rows": null,
            "height": null,
            "justify_content": null,
            "justify_items": null,
            "left": null,
            "margin": null,
            "max_height": null,
            "max_width": null,
            "min_height": null,
            "min_width": null,
            "object_fit": null,
            "object_position": null,
            "order": null,
            "overflow": null,
            "overflow_x": null,
            "overflow_y": null,
            "padding": null,
            "right": null,
            "top": null,
            "visibility": null,
            "width": null
          }
        },
        "d164f2a5ad5d4b2096255ac3e3fafd5a": {
          "model_module": "@jupyter-widgets/controls",
          "model_name": "DescriptionStyleModel",
          "model_module_version": "1.5.0",
          "state": {
            "_model_module": "@jupyter-widgets/controls",
            "_model_module_version": "1.5.0",
            "_model_name": "DescriptionStyleModel",
            "_view_count": null,
            "_view_module": "@jupyter-widgets/base",
            "_view_module_version": "1.2.0",
            "_view_name": "StyleView",
            "description_width": ""
          }
        },
        "73010940235d477099fa989fe5bf6ff7": {
          "model_module": "@jupyter-widgets/controls",
          "model_name": "FloatTextModel",
          "model_module_version": "1.5.0",
          "state": {
            "_dom_classes": [],
            "_model_module": "@jupyter-widgets/controls",
            "_model_module_version": "1.5.0",
            "_model_name": "FloatTextModel",
            "_view_count": null,
            "_view_module": "@jupyter-widgets/controls",
            "_view_module_version": "1.5.0",
            "_view_name": "FloatTextView",
            "continuous_update": false,
            "description": "study_hours",
            "description_tooltip": null,
            "disabled": false,
            "layout": "IPY_MODEL_ddd378a913d141fb9abb23906e65174a",
            "step": null,
            "style": "IPY_MODEL_2c57476484544dfdae4127cf36da6c6f",
            "value": 2
          }
        },
        "ddd378a913d141fb9abb23906e65174a": {
          "model_module": "@jupyter-widgets/base",
          "model_name": "LayoutModel",
          "model_module_version": "1.2.0",
          "state": {
            "_model_module": "@jupyter-widgets/base",
            "_model_module_version": "1.2.0",
            "_model_name": "LayoutModel",
            "_view_count": null,
            "_view_module": "@jupyter-widgets/base",
            "_view_module_version": "1.2.0",
            "_view_name": "LayoutView",
            "align_content": null,
            "align_items": null,
            "align_self": null,
            "border": null,
            "bottom": null,
            "display": null,
            "flex": null,
            "flex_flow": null,
            "grid_area": null,
            "grid_auto_columns": null,
            "grid_auto_flow": null,
            "grid_auto_rows": null,
            "grid_column": null,
            "grid_gap": null,
            "grid_row": null,
            "grid_template_areas": null,
            "grid_template_columns": null,
            "grid_template_rows": null,
            "height": null,
            "justify_content": null,
            "justify_items": null,
            "left": null,
            "margin": null,
            "max_height": null,
            "max_width": null,
            "min_height": null,
            "min_width": null,
            "object_fit": null,
            "object_position": null,
            "order": null,
            "overflow": null,
            "overflow_x": null,
            "overflow_y": null,
            "padding": null,
            "right": null,
            "top": null,
            "visibility": null,
            "width": null
          }
        },
        "2c57476484544dfdae4127cf36da6c6f": {
          "model_module": "@jupyter-widgets/controls",
          "model_name": "DescriptionStyleModel",
          "model_module_version": "1.5.0",
          "state": {
            "_model_module": "@jupyter-widgets/controls",
            "_model_module_version": "1.5.0",
            "_model_name": "DescriptionStyleModel",
            "_view_count": null,
            "_view_module": "@jupyter-widgets/base",
            "_view_module_version": "1.2.0",
            "_view_name": "StyleView",
            "description_width": ""
          }
        },
        "0f1f25bb48b541ffaea2fd91dc20b6bb": {
          "model_module": "@jupyter-widgets/controls",
          "model_name": "FloatTextModel",
          "model_module_version": "1.5.0",
          "state": {
            "_dom_classes": [],
            "_model_module": "@jupyter-widgets/controls",
            "_model_module_version": "1.5.0",
            "_model_name": "FloatTextModel",
            "_view_count": null,
            "_view_module": "@jupyter-widgets/controls",
            "_view_module_version": "1.5.0",
            "_view_name": "FloatTextView",
            "continuous_update": false,
            "description": "schedule_type",
            "description_tooltip": null,
            "disabled": false,
            "layout": "IPY_MODEL_f31e8c2363a94ccd8262bfbd6a805ef1",
            "step": null,
            "style": "IPY_MODEL_2e182884617340dabd255ed98ff02351",
            "value": 1
          }
        },
        "f31e8c2363a94ccd8262bfbd6a805ef1": {
          "model_module": "@jupyter-widgets/base",
          "model_name": "LayoutModel",
          "model_module_version": "1.2.0",
          "state": {
            "_model_module": "@jupyter-widgets/base",
            "_model_module_version": "1.2.0",
            "_model_name": "LayoutModel",
            "_view_count": null,
            "_view_module": "@jupyter-widgets/base",
            "_view_module_version": "1.2.0",
            "_view_name": "LayoutView",
            "align_content": null,
            "align_items": null,
            "align_self": null,
            "border": null,
            "bottom": null,
            "display": null,
            "flex": null,
            "flex_flow": null,
            "grid_area": null,
            "grid_auto_columns": null,
            "grid_auto_flow": null,
            "grid_auto_rows": null,
            "grid_column": null,
            "grid_gap": null,
            "grid_row": null,
            "grid_template_areas": null,
            "grid_template_columns": null,
            "grid_template_rows": null,
            "height": null,
            "justify_content": null,
            "justify_items": null,
            "left": null,
            "margin": null,
            "max_height": null,
            "max_width": null,
            "min_height": null,
            "min_width": null,
            "object_fit": null,
            "object_position": null,
            "order": null,
            "overflow": null,
            "overflow_x": null,
            "overflow_y": null,
            "padding": null,
            "right": null,
            "top": null,
            "visibility": null,
            "width": null
          }
        },
        "2e182884617340dabd255ed98ff02351": {
          "model_module": "@jupyter-widgets/controls",
          "model_name": "DescriptionStyleModel",
          "model_module_version": "1.5.0",
          "state": {
            "_model_module": "@jupyter-widgets/controls",
            "_model_module_version": "1.5.0",
            "_model_name": "DescriptionStyleModel",
            "_view_count": null,
            "_view_module": "@jupyter-widgets/base",
            "_view_module_version": "1.2.0",
            "_view_name": "StyleView",
            "description_width": ""
          }
        },
        "1af75aea4e1449c6a8769bc3502bf494": {
          "model_module": "@jupyter-widgets/controls",
          "model_name": "FloatTextModel",
          "model_module_version": "1.5.0",
          "state": {
            "_dom_classes": [],
            "_model_module": "@jupyter-widgets/controls",
            "_model_module_version": "1.5.0",
            "_model_name": "FloatTextModel",
            "_view_count": null,
            "_view_module": "@jupyter-widgets/controls",
            "_view_module_version": "1.5.0",
            "_view_name": "FloatTextView",
            "continuous_update": false,
            "description": "class_hours",
            "description_tooltip": null,
            "disabled": false,
            "layout": "IPY_MODEL_eaa317f6a3d94cf5afc6ed3e17d94e4a",
            "step": null,
            "style": "IPY_MODEL_006fc4a97e1e4b46ab74cb8e08cf13a5",
            "value": 5
          }
        },
        "eaa317f6a3d94cf5afc6ed3e17d94e4a": {
          "model_module": "@jupyter-widgets/base",
          "model_name": "LayoutModel",
          "model_module_version": "1.2.0",
          "state": {
            "_model_module": "@jupyter-widgets/base",
            "_model_module_version": "1.2.0",
            "_model_name": "LayoutModel",
            "_view_count": null,
            "_view_module": "@jupyter-widgets/base",
            "_view_module_version": "1.2.0",
            "_view_name": "LayoutView",
            "align_content": null,
            "align_items": null,
            "align_self": null,
            "border": null,
            "bottom": null,
            "display": null,
            "flex": null,
            "flex_flow": null,
            "grid_area": null,
            "grid_auto_columns": null,
            "grid_auto_flow": null,
            "grid_auto_rows": null,
            "grid_column": null,
            "grid_gap": null,
            "grid_row": null,
            "grid_template_areas": null,
            "grid_template_columns": null,
            "grid_template_rows": null,
            "height": null,
            "justify_content": null,
            "justify_items": null,
            "left": null,
            "margin": null,
            "max_height": null,
            "max_width": null,
            "min_height": null,
            "min_width": null,
            "object_fit": null,
            "object_position": null,
            "order": null,
            "overflow": null,
            "overflow_x": null,
            "overflow_y": null,
            "padding": null,
            "right": null,
            "top": null,
            "visibility": null,
            "width": null
          }
        },
        "006fc4a97e1e4b46ab74cb8e08cf13a5": {
          "model_module": "@jupyter-widgets/controls",
          "model_name": "DescriptionStyleModel",
          "model_module_version": "1.5.0",
          "state": {
            "_model_module": "@jupyter-widgets/controls",
            "_model_module_version": "1.5.0",
            "_model_name": "DescriptionStyleModel",
            "_view_count": null,
            "_view_module": "@jupyter-widgets/base",
            "_view_module_version": "1.2.0",
            "_view_name": "StyleView",
            "description_width": ""
          }
        },
        "235e3592139149299fb1ef307bd1ebd0": {
          "model_module": "@jupyter-widgets/controls",
          "model_name": "FloatTextModel",
          "model_module_version": "1.5.0",
          "state": {
            "_dom_classes": [],
            "_model_module": "@jupyter-widgets/controls",
            "_model_module_version": "1.5.0",
            "_model_name": "FloatTextModel",
            "_view_count": null,
            "_view_module": "@jupyter-widgets/controls",
            "_view_module_version": "1.5.0",
            "_view_name": "FloatTextView",
            "continuous_update": false,
            "description": "assignment_hours",
            "description_tooltip": null,
            "disabled": false,
            "layout": "IPY_MODEL_db4873985d3143f581c58b2fb8f8f39b",
            "step": null,
            "style": "IPY_MODEL_8d5a923c982846acacc2d5b54388b146",
            "value": 1
          }
        },
        "db4873985d3143f581c58b2fb8f8f39b": {
          "model_module": "@jupyter-widgets/base",
          "model_name": "LayoutModel",
          "model_module_version": "1.2.0",
          "state": {
            "_model_module": "@jupyter-widgets/base",
            "_model_module_version": "1.2.0",
            "_model_name": "LayoutModel",
            "_view_count": null,
            "_view_module": "@jupyter-widgets/base",
            "_view_module_version": "1.2.0",
            "_view_name": "LayoutView",
            "align_content": null,
            "align_items": null,
            "align_self": null,
            "border": null,
            "bottom": null,
            "display": null,
            "flex": null,
            "flex_flow": null,
            "grid_area": null,
            "grid_auto_columns": null,
            "grid_auto_flow": null,
            "grid_auto_rows": null,
            "grid_column": null,
            "grid_gap": null,
            "grid_row": null,
            "grid_template_areas": null,
            "grid_template_columns": null,
            "grid_template_rows": null,
            "height": null,
            "justify_content": null,
            "justify_items": null,
            "left": null,
            "margin": null,
            "max_height": null,
            "max_width": null,
            "min_height": null,
            "min_width": null,
            "object_fit": null,
            "object_position": null,
            "order": null,
            "overflow": null,
            "overflow_x": null,
            "overflow_y": null,
            "padding": null,
            "right": null,
            "top": null,
            "visibility": null,
            "width": null
          }
        },
        "8d5a923c982846acacc2d5b54388b146": {
          "model_module": "@jupyter-widgets/controls",
          "model_name": "DescriptionStyleModel",
          "model_module_version": "1.5.0",
          "state": {
            "_model_module": "@jupyter-widgets/controls",
            "_model_module_version": "1.5.0",
            "_model_name": "DescriptionStyleModel",
            "_view_count": null,
            "_view_module": "@jupyter-widgets/base",
            "_view_module_version": "1.2.0",
            "_view_name": "StyleView",
            "description_width": ""
          }
        },
        "b0c8393b5d9544fbb537984f7ffa3b50": {
          "model_module": "@jupyter-widgets/controls",
          "model_name": "FloatTextModel",
          "model_module_version": "1.5.0",
          "state": {
            "_dom_classes": [],
            "_model_module": "@jupyter-widgets/controls",
            "_model_module_version": "1.5.0",
            "_model_name": "FloatTextModel",
            "_view_count": null,
            "_view_module": "@jupyter-widgets/controls",
            "_view_module_version": "1.5.0",
            "_view_name": "FloatTextView",
            "continuous_update": false,
            "description": "social_media_hours",
            "description_tooltip": null,
            "disabled": false,
            "layout": "IPY_MODEL_693757d472df4c4aa4faabb2baae5aab",
            "step": null,
            "style": "IPY_MODEL_51217da998a54a3e89f6567ea0466245",
            "value": 3
          }
        },
        "693757d472df4c4aa4faabb2baae5aab": {
          "model_module": "@jupyter-widgets/base",
          "model_name": "LayoutModel",
          "model_module_version": "1.2.0",
          "state": {
            "_model_module": "@jupyter-widgets/base",
            "_model_module_version": "1.2.0",
            "_model_name": "LayoutModel",
            "_view_count": null,
            "_view_module": "@jupyter-widgets/base",
            "_view_module_version": "1.2.0",
            "_view_name": "LayoutView",
            "align_content": null,
            "align_items": null,
            "align_self": null,
            "border": null,
            "bottom": null,
            "display": null,
            "flex": null,
            "flex_flow": null,
            "grid_area": null,
            "grid_auto_columns": null,
            "grid_auto_flow": null,
            "grid_auto_rows": null,
            "grid_column": null,
            "grid_gap": null,
            "grid_row": null,
            "grid_template_areas": null,
            "grid_template_columns": null,
            "grid_template_rows": null,
            "height": null,
            "justify_content": null,
            "justify_items": null,
            "left": null,
            "margin": null,
            "max_height": null,
            "max_width": null,
            "min_height": null,
            "min_width": null,
            "object_fit": null,
            "object_position": null,
            "order": null,
            "overflow": null,
            "overflow_x": null,
            "overflow_y": null,
            "padding": null,
            "right": null,
            "top": null,
            "visibility": null,
            "width": null
          }
        },
        "51217da998a54a3e89f6567ea0466245": {
          "model_module": "@jupyter-widgets/controls",
          "model_name": "DescriptionStyleModel",
          "model_module_version": "1.5.0",
          "state": {
            "_model_module": "@jupyter-widgets/controls",
            "_model_module_version": "1.5.0",
            "_model_name": "DescriptionStyleModel",
            "_view_count": null,
            "_view_module": "@jupyter-widgets/base",
            "_view_module_version": "1.2.0",
            "_view_name": "StyleView",
            "description_width": ""
          }
        },
        "e20769d923374d968555579ad1d4cf26": {
          "model_module": "@jupyter-widgets/controls",
          "model_name": "FloatTextModel",
          "model_module_version": "1.5.0",
          "state": {
            "_dom_classes": [],
            "_model_module": "@jupyter-widgets/controls",
            "_model_module_version": "1.5.0",
            "_model_name": "FloatTextModel",
            "_view_count": null,
            "_view_module": "@jupyter-widgets/controls",
            "_view_module_version": "1.5.0",
            "_view_name": "FloatTextView",
            "continuous_update": false,
            "description": "hobbies_hours",
            "description_tooltip": null,
            "disabled": false,
            "layout": "IPY_MODEL_ac3988f520a64435829fa29b7fa56b8e",
            "step": null,
            "style": "IPY_MODEL_76450bbc712f48758b4a3b10ed0096db",
            "value": 1
          }
        },
        "ac3988f520a64435829fa29b7fa56b8e": {
          "model_module": "@jupyter-widgets/base",
          "model_name": "LayoutModel",
          "model_module_version": "1.2.0",
          "state": {
            "_model_module": "@jupyter-widgets/base",
            "_model_module_version": "1.2.0",
            "_model_name": "LayoutModel",
            "_view_count": null,
            "_view_module": "@jupyter-widgets/base",
            "_view_module_version": "1.2.0",
            "_view_name": "LayoutView",
            "align_content": null,
            "align_items": null,
            "align_self": null,
            "border": null,
            "bottom": null,
            "display": null,
            "flex": null,
            "flex_flow": null,
            "grid_area": null,
            "grid_auto_columns": null,
            "grid_auto_flow": null,
            "grid_auto_rows": null,
            "grid_column": null,
            "grid_gap": null,
            "grid_row": null,
            "grid_template_areas": null,
            "grid_template_columns": null,
            "grid_template_rows": null,
            "height": null,
            "justify_content": null,
            "justify_items": null,
            "left": null,
            "margin": null,
            "max_height": null,
            "max_width": null,
            "min_height": null,
            "min_width": null,
            "object_fit": null,
            "object_position": null,
            "order": null,
            "overflow": null,
            "overflow_x": null,
            "overflow_y": null,
            "padding": null,
            "right": null,
            "top": null,
            "visibility": null,
            "width": null
          }
        },
        "76450bbc712f48758b4a3b10ed0096db": {
          "model_module": "@jupyter-widgets/controls",
          "model_name": "DescriptionStyleModel",
          "model_module_version": "1.5.0",
          "state": {
            "_model_module": "@jupyter-widgets/controls",
            "_model_module_version": "1.5.0",
            "_model_name": "DescriptionStyleModel",
            "_view_count": null,
            "_view_module": "@jupyter-widgets/base",
            "_view_module_version": "1.2.0",
            "_view_name": "StyleView",
            "description_width": ""
          }
        },
        "481e756ae42f4d53997cafd0a50b5973": {
          "model_module": "@jupyter-widgets/controls",
          "model_name": "FloatTextModel",
          "model_module_version": "1.5.0",
          "state": {
            "_dom_classes": [],
            "_model_module": "@jupyter-widgets/controls",
            "_model_module_version": "1.5.0",
            "_model_name": "FloatTextModel",
            "_view_count": null,
            "_view_module": "@jupyter-widgets/controls",
            "_view_module_version": "1.5.0",
            "_view_name": "FloatTextView",
            "continuous_update": false,
            "description": "exercise_participation",
            "description_tooltip": null,
            "disabled": false,
            "layout": "IPY_MODEL_6c093da7b5b242ecac4f2acf4617dc56",
            "step": null,
            "style": "IPY_MODEL_7aa4e4c1cf6548b99b536fab8aa80864",
            "value": 1
          }
        },
        "6c093da7b5b242ecac4f2acf4617dc56": {
          "model_module": "@jupyter-widgets/base",
          "model_name": "LayoutModel",
          "model_module_version": "1.2.0",
          "state": {
            "_model_module": "@jupyter-widgets/base",
            "_model_module_version": "1.2.0",
            "_model_name": "LayoutModel",
            "_view_count": null,
            "_view_module": "@jupyter-widgets/base",
            "_view_module_version": "1.2.0",
            "_view_name": "LayoutView",
            "align_content": null,
            "align_items": null,
            "align_self": null,
            "border": null,
            "bottom": null,
            "display": null,
            "flex": null,
            "flex_flow": null,
            "grid_area": null,
            "grid_auto_columns": null,
            "grid_auto_flow": null,
            "grid_auto_rows": null,
            "grid_column": null,
            "grid_gap": null,
            "grid_row": null,
            "grid_template_areas": null,
            "grid_template_columns": null,
            "grid_template_rows": null,
            "height": null,
            "justify_content": null,
            "justify_items": null,
            "left": null,
            "margin": null,
            "max_height": null,
            "max_width": null,
            "min_height": null,
            "min_width": null,
            "object_fit": null,
            "object_position": null,
            "order": null,
            "overflow": null,
            "overflow_x": null,
            "overflow_y": null,
            "padding": null,
            "right": null,
            "top": null,
            "visibility": null,
            "width": null
          }
        },
        "7aa4e4c1cf6548b99b536fab8aa80864": {
          "model_module": "@jupyter-widgets/controls",
          "model_name": "DescriptionStyleModel",
          "model_module_version": "1.5.0",
          "state": {
            "_model_module": "@jupyter-widgets/controls",
            "_model_module_version": "1.5.0",
            "_model_name": "DescriptionStyleModel",
            "_view_count": null,
            "_view_module": "@jupyter-widgets/base",
            "_view_module_version": "1.2.0",
            "_view_name": "StyleView",
            "description_width": ""
          }
        },
        "62420a08a3944013ab81760a2416ec1b": {
          "model_module": "@jupyter-widgets/controls",
          "model_name": "FloatTextModel",
          "model_module_version": "1.5.0",
          "state": {
            "_dom_classes": [],
            "_model_module": "@jupyter-widgets/controls",
            "_model_module_version": "1.5.0",
            "_model_name": "FloatTextModel",
            "_view_count": null,
            "_view_module": "@jupyter-widgets/controls",
            "_view_module_version": "1.5.0",
            "_view_name": "FloatTextView",
            "continuous_update": false,
            "description": "exercise_hours",
            "description_tooltip": null,
            "disabled": false,
            "layout": "IPY_MODEL_4a1e05f6d19d4e39acd6cacf5d49fa58",
            "step": null,
            "style": "IPY_MODEL_28b24553f25348f8a6b16c599e32ed71",
            "value": 1
          }
        },
        "4a1e05f6d19d4e39acd6cacf5d49fa58": {
          "model_module": "@jupyter-widgets/base",
          "model_name": "LayoutModel",
          "model_module_version": "1.2.0",
          "state": {
            "_model_module": "@jupyter-widgets/base",
            "_model_module_version": "1.2.0",
            "_model_name": "LayoutModel",
            "_view_count": null,
            "_view_module": "@jupyter-widgets/base",
            "_view_module_version": "1.2.0",
            "_view_name": "LayoutView",
            "align_content": null,
            "align_items": null,
            "align_self": null,
            "border": null,
            "bottom": null,
            "display": null,
            "flex": null,
            "flex_flow": null,
            "grid_area": null,
            "grid_auto_columns": null,
            "grid_auto_flow": null,
            "grid_auto_rows": null,
            "grid_column": null,
            "grid_gap": null,
            "grid_row": null,
            "grid_template_areas": null,
            "grid_template_columns": null,
            "grid_template_rows": null,
            "height": null,
            "justify_content": null,
            "justify_items": null,
            "left": null,
            "margin": null,
            "max_height": null,
            "max_width": null,
            "min_height": null,
            "min_width": null,
            "object_fit": null,
            "object_position": null,
            "order": null,
            "overflow": null,
            "overflow_x": null,
            "overflow_y": null,
            "padding": null,
            "right": null,
            "top": null,
            "visibility": null,
            "width": null
          }
        },
        "28b24553f25348f8a6b16c599e32ed71": {
          "model_module": "@jupyter-widgets/controls",
          "model_name": "DescriptionStyleModel",
          "model_module_version": "1.5.0",
          "state": {
            "_model_module": "@jupyter-widgets/controls",
            "_model_module_version": "1.5.0",
            "_model_name": "DescriptionStyleModel",
            "_view_count": null,
            "_view_module": "@jupyter-widgets/base",
            "_view_module_version": "1.2.0",
            "_view_name": "StyleView",
            "description_width": ""
          }
        },
        "5e69b7db4875465cadeb320b169798c6": {
          "model_module": "@jupyter-widgets/controls",
          "model_name": "FloatTextModel",
          "model_module_version": "1.5.0",
          "state": {
            "_dom_classes": [],
            "_model_module": "@jupyter-widgets/controls",
            "_model_module_version": "1.5.0",
            "_model_name": "FloatTextModel",
            "_view_count": null,
            "_view_module": "@jupyter-widgets/controls",
            "_view_module_version": "1.5.0",
            "_view_name": "FloatTextView",
            "continuous_update": false,
            "description": "break_frequency",
            "description_tooltip": null,
            "disabled": false,
            "layout": "IPY_MODEL_f466c38b30dd47938087123e52d8c100",
            "step": null,
            "style": "IPY_MODEL_70d36a9fa6934174acb4070186dab124",
            "value": 1
          }
        },
        "f466c38b30dd47938087123e52d8c100": {
          "model_module": "@jupyter-widgets/base",
          "model_name": "LayoutModel",
          "model_module_version": "1.2.0",
          "state": {
            "_model_module": "@jupyter-widgets/base",
            "_model_module_version": "1.2.0",
            "_model_name": "LayoutModel",
            "_view_count": null,
            "_view_module": "@jupyter-widgets/base",
            "_view_module_version": "1.2.0",
            "_view_name": "LayoutView",
            "align_content": null,
            "align_items": null,
            "align_self": null,
            "border": null,
            "bottom": null,
            "display": null,
            "flex": null,
            "flex_flow": null,
            "grid_area": null,
            "grid_auto_columns": null,
            "grid_auto_flow": null,
            "grid_auto_rows": null,
            "grid_column": null,
            "grid_gap": null,
            "grid_row": null,
            "grid_template_areas": null,
            "grid_template_columns": null,
            "grid_template_rows": null,
            "height": null,
            "justify_content": null,
            "justify_items": null,
            "left": null,
            "margin": null,
            "max_height": null,
            "max_width": null,
            "min_height": null,
            "min_width": null,
            "object_fit": null,
            "object_position": null,
            "order": null,
            "overflow": null,
            "overflow_x": null,
            "overflow_y": null,
            "padding": null,
            "right": null,
            "top": null,
            "visibility": null,
            "width": null
          }
        },
        "70d36a9fa6934174acb4070186dab124": {
          "model_module": "@jupyter-widgets/controls",
          "model_name": "DescriptionStyleModel",
          "model_module_version": "1.5.0",
          "state": {
            "_model_module": "@jupyter-widgets/controls",
            "_model_module_version": "1.5.0",
            "_model_name": "DescriptionStyleModel",
            "_view_count": null,
            "_view_module": "@jupyter-widgets/base",
            "_view_module_version": "1.2.0",
            "_view_name": "StyleView",
            "description_width": ""
          }
        },
        "f3e383f9af2f41c5851bc639284c0772": {
          "model_module": "@jupyter-widgets/controls",
          "model_name": "FloatTextModel",
          "model_module_version": "1.5.0",
          "state": {
            "_dom_classes": [],
            "_model_module": "@jupyter-widgets/controls",
            "_model_module_version": "1.5.0",
            "_model_name": "FloatTextModel",
            "_view_count": null,
            "_view_module": "@jupyter-widgets/controls",
            "_view_module_version": "1.5.0",
            "_view_name": "FloatTextView",
            "continuous_update": false,
            "description": "mental_hours",
            "description_tooltip": null,
            "disabled": false,
            "layout": "IPY_MODEL_a0d8bbab459d44c68a6e8c52228a2c2d",
            "step": null,
            "style": "IPY_MODEL_143c0f2480f74086abe8510325c4f9a0",
            "value": 1
          }
        },
        "a0d8bbab459d44c68a6e8c52228a2c2d": {
          "model_module": "@jupyter-widgets/base",
          "model_name": "LayoutModel",
          "model_module_version": "1.2.0",
          "state": {
            "_model_module": "@jupyter-widgets/base",
            "_model_module_version": "1.2.0",
            "_model_name": "LayoutModel",
            "_view_count": null,
            "_view_module": "@jupyter-widgets/base",
            "_view_module_version": "1.2.0",
            "_view_name": "LayoutView",
            "align_content": null,
            "align_items": null,
            "align_self": null,
            "border": null,
            "bottom": null,
            "display": null,
            "flex": null,
            "flex_flow": null,
            "grid_area": null,
            "grid_auto_columns": null,
            "grid_auto_flow": null,
            "grid_auto_rows": null,
            "grid_column": null,
            "grid_gap": null,
            "grid_row": null,
            "grid_template_areas": null,
            "grid_template_columns": null,
            "grid_template_rows": null,
            "height": null,
            "justify_content": null,
            "justify_items": null,
            "left": null,
            "margin": null,
            "max_height": null,
            "max_width": null,
            "min_height": null,
            "min_width": null,
            "object_fit": null,
            "object_position": null,
            "order": null,
            "overflow": null,
            "overflow_x": null,
            "overflow_y": null,
            "padding": null,
            "right": null,
            "top": null,
            "visibility": null,
            "width": null
          }
        },
        "143c0f2480f74086abe8510325c4f9a0": {
          "model_module": "@jupyter-widgets/controls",
          "model_name": "DescriptionStyleModel",
          "model_module_version": "1.5.0",
          "state": {
            "_model_module": "@jupyter-widgets/controls",
            "_model_module_version": "1.5.0",
            "_model_name": "DescriptionStyleModel",
            "_view_count": null,
            "_view_module": "@jupyter-widgets/base",
            "_view_module_version": "1.2.0",
            "_view_name": "StyleView",
            "description_width": ""
          }
        },
        "0bf5e216686d4ab4b135302c775ac8ef": {
          "model_module": "@jupyter-widgets/controls",
          "model_name": "FloatTextModel",
          "model_module_version": "1.5.0",
          "state": {
            "_dom_classes": [],
            "_model_module": "@jupyter-widgets/controls",
            "_model_module_version": "1.5.0",
            "_model_name": "FloatTextModel",
            "_view_count": null,
            "_view_module": "@jupyter-widgets/controls",
            "_view_module_version": "1.5.0",
            "_view_name": "FloatTextView",
            "continuous_update": false,
            "description": "active_period",
            "description_tooltip": null,
            "disabled": false,
            "layout": "IPY_MODEL_8704cf8867514f6e9e633d0c6e54831c",
            "step": null,
            "style": "IPY_MODEL_646199d42ae341c7ab3280a93e88c55f",
            "value": 3
          }
        },
        "8704cf8867514f6e9e633d0c6e54831c": {
          "model_module": "@jupyter-widgets/base",
          "model_name": "LayoutModel",
          "model_module_version": "1.2.0",
          "state": {
            "_model_module": "@jupyter-widgets/base",
            "_model_module_version": "1.2.0",
            "_model_name": "LayoutModel",
            "_view_count": null,
            "_view_module": "@jupyter-widgets/base",
            "_view_module_version": "1.2.0",
            "_view_name": "LayoutView",
            "align_content": null,
            "align_items": null,
            "align_self": null,
            "border": null,
            "bottom": null,
            "display": null,
            "flex": null,
            "flex_flow": null,
            "grid_area": null,
            "grid_auto_columns": null,
            "grid_auto_flow": null,
            "grid_auto_rows": null,
            "grid_column": null,
            "grid_gap": null,
            "grid_row": null,
            "grid_template_areas": null,
            "grid_template_columns": null,
            "grid_template_rows": null,
            "height": null,
            "justify_content": null,
            "justify_items": null,
            "left": null,
            "margin": null,
            "max_height": null,
            "max_width": null,
            "min_height": null,
            "min_width": null,
            "object_fit": null,
            "object_position": null,
            "order": null,
            "overflow": null,
            "overflow_x": null,
            "overflow_y": null,
            "padding": null,
            "right": null,
            "top": null,
            "visibility": null,
            "width": null
          }
        },
        "646199d42ae341c7ab3280a93e88c55f": {
          "model_module": "@jupyter-widgets/controls",
          "model_name": "DescriptionStyleModel",
          "model_module_version": "1.5.0",
          "state": {
            "_model_module": "@jupyter-widgets/controls",
            "_model_module_version": "1.5.0",
            "_model_name": "DescriptionStyleModel",
            "_view_count": null,
            "_view_module": "@jupyter-widgets/base",
            "_view_module_version": "1.2.0",
            "_view_name": "StyleView",
            "description_width": ""
          }
        },
        "3cd5240f1a124ec29abb1f028ce96340": {
          "model_module": "@jupyter-widgets/controls",
          "model_name": "FloatTextModel",
          "model_module_version": "1.5.0",
          "state": {
            "_dom_classes": [],
            "_model_module": "@jupyter-widgets/controls",
            "_model_module_version": "1.5.0",
            "_model_name": "FloatTextModel",
            "_view_count": null,
            "_view_module": "@jupyter-widgets/controls",
            "_view_module_version": "1.5.0",
            "_view_name": "FloatTextView",
            "continuous_update": false,
            "description": "meal_hours",
            "description_tooltip": null,
            "disabled": false,
            "layout": "IPY_MODEL_19266ad12970475e81e9475af8d2f9b9",
            "step": null,
            "style": "IPY_MODEL_f7bb007293bf4912b9c6dafb62f6396c",
            "value": 2
          }
        },
        "19266ad12970475e81e9475af8d2f9b9": {
          "model_module": "@jupyter-widgets/base",
          "model_name": "LayoutModel",
          "model_module_version": "1.2.0",
          "state": {
            "_model_module": "@jupyter-widgets/base",
            "_model_module_version": "1.2.0",
            "_model_name": "LayoutModel",
            "_view_count": null,
            "_view_module": "@jupyter-widgets/base",
            "_view_module_version": "1.2.0",
            "_view_name": "LayoutView",
            "align_content": null,
            "align_items": null,
            "align_self": null,
            "border": null,
            "bottom": null,
            "display": null,
            "flex": null,
            "flex_flow": null,
            "grid_area": null,
            "grid_auto_columns": null,
            "grid_auto_flow": null,
            "grid_auto_rows": null,
            "grid_column": null,
            "grid_gap": null,
            "grid_row": null,
            "grid_template_areas": null,
            "grid_template_columns": null,
            "grid_template_rows": null,
            "height": null,
            "justify_content": null,
            "justify_items": null,
            "left": null,
            "margin": null,
            "max_height": null,
            "max_width": null,
            "min_height": null,
            "min_width": null,
            "object_fit": null,
            "object_position": null,
            "order": null,
            "overflow": null,
            "overflow_x": null,
            "overflow_y": null,
            "padding": null,
            "right": null,
            "top": null,
            "visibility": null,
            "width": null
          }
        },
        "f7bb007293bf4912b9c6dafb62f6396c": {
          "model_module": "@jupyter-widgets/controls",
          "model_name": "DescriptionStyleModel",
          "model_module_version": "1.5.0",
          "state": {
            "_model_module": "@jupyter-widgets/controls",
            "_model_module_version": "1.5.0",
            "_model_name": "DescriptionStyleModel",
            "_view_count": null,
            "_view_module": "@jupyter-widgets/base",
            "_view_module_version": "1.2.0",
            "_view_name": "StyleView",
            "description_width": ""
          }
        },
        "5d62755efb8b458eb44f5406e3c734f2": {
          "model_module": "@jupyter-widgets/controls",
          "model_name": "FloatTextModel",
          "model_module_version": "1.5.0",
          "state": {
            "_dom_classes": [],
            "_model_module": "@jupyter-widgets/controls",
            "_model_module_version": "1.5.0",
            "_model_name": "FloatTextModel",
            "_view_count": null,
            "_view_module": "@jupyter-widgets/controls",
            "_view_module_version": "1.5.0",
            "_view_name": "FloatTextView",
            "continuous_update": false,
            "description": "time_efficiency",
            "description_tooltip": null,
            "disabled": false,
            "layout": "IPY_MODEL_a4913ed5606a4c368c798d3316099b56",
            "step": null,
            "style": "IPY_MODEL_fedab33412044113a48136ca56b61e02",
            "value": 0
          }
        },
        "a4913ed5606a4c368c798d3316099b56": {
          "model_module": "@jupyter-widgets/base",
          "model_name": "LayoutModel",
          "model_module_version": "1.2.0",
          "state": {
            "_model_module": "@jupyter-widgets/base",
            "_model_module_version": "1.2.0",
            "_model_name": "LayoutModel",
            "_view_count": null,
            "_view_module": "@jupyter-widgets/base",
            "_view_module_version": "1.2.0",
            "_view_name": "LayoutView",
            "align_content": null,
            "align_items": null,
            "align_self": null,
            "border": null,
            "bottom": null,
            "display": null,
            "flex": null,
            "flex_flow": null,
            "grid_area": null,
            "grid_auto_columns": null,
            "grid_auto_flow": null,
            "grid_auto_rows": null,
            "grid_column": null,
            "grid_gap": null,
            "grid_row": null,
            "grid_template_areas": null,
            "grid_template_columns": null,
            "grid_template_rows": null,
            "height": null,
            "justify_content": null,
            "justify_items": null,
            "left": null,
            "margin": null,
            "max_height": null,
            "max_width": null,
            "min_height": null,
            "min_width": null,
            "object_fit": null,
            "object_position": null,
            "order": null,
            "overflow": null,
            "overflow_x": null,
            "overflow_y": null,
            "padding": null,
            "right": null,
            "top": null,
            "visibility": null,
            "width": null
          }
        },
        "fedab33412044113a48136ca56b61e02": {
          "model_module": "@jupyter-widgets/controls",
          "model_name": "DescriptionStyleModel",
          "model_module_version": "1.5.0",
          "state": {
            "_model_module": "@jupyter-widgets/controls",
            "_model_module_version": "1.5.0",
            "_model_name": "DescriptionStyleModel",
            "_view_count": null,
            "_view_module": "@jupyter-widgets/base",
            "_view_module_version": "1.2.0",
            "_view_name": "StyleView",
            "description_width": ""
          }
        },
        "b0c755ee2c7f4f0fb3618ab16e777afd": {
          "model_module": "@jupyter-widgets/controls",
          "model_name": "ButtonModel",
          "model_module_version": "1.5.0",
          "state": {
            "_dom_classes": [],
            "_model_module": "@jupyter-widgets/controls",
            "_model_module_version": "1.5.0",
            "_model_name": "ButtonModel",
            "_view_count": null,
            "_view_module": "@jupyter-widgets/controls",
            "_view_module_version": "1.5.0",
            "_view_name": "ButtonView",
            "button_style": "",
            "description": "Predict",
            "disabled": false,
            "icon": "",
            "layout": "IPY_MODEL_65b8cbe903f042259d8d7b1ee9c4c8b2",
            "style": "IPY_MODEL_0486bfb8f66c42b7863777d789b14582",
            "tooltip": ""
          }
        },
        "65b8cbe903f042259d8d7b1ee9c4c8b2": {
          "model_module": "@jupyter-widgets/base",
          "model_name": "LayoutModel",
          "model_module_version": "1.2.0",
          "state": {
            "_model_module": "@jupyter-widgets/base",
            "_model_module_version": "1.2.0",
            "_model_name": "LayoutModel",
            "_view_count": null,
            "_view_module": "@jupyter-widgets/base",
            "_view_module_version": "1.2.0",
            "_view_name": "LayoutView",
            "align_content": null,
            "align_items": null,
            "align_self": null,
            "border": null,
            "bottom": null,
            "display": null,
            "flex": null,
            "flex_flow": null,
            "grid_area": null,
            "grid_auto_columns": null,
            "grid_auto_flow": null,
            "grid_auto_rows": null,
            "grid_column": null,
            "grid_gap": null,
            "grid_row": null,
            "grid_template_areas": null,
            "grid_template_columns": null,
            "grid_template_rows": null,
            "height": null,
            "justify_content": null,
            "justify_items": null,
            "left": null,
            "margin": null,
            "max_height": null,
            "max_width": null,
            "min_height": null,
            "min_width": null,
            "object_fit": null,
            "object_position": null,
            "order": null,
            "overflow": null,
            "overflow_x": null,
            "overflow_y": null,
            "padding": null,
            "right": null,
            "top": null,
            "visibility": null,
            "width": null
          }
        },
        "0486bfb8f66c42b7863777d789b14582": {
          "model_module": "@jupyter-widgets/controls",
          "model_name": "ButtonStyleModel",
          "model_module_version": "1.5.0",
          "state": {
            "_model_module": "@jupyter-widgets/controls",
            "_model_module_version": "1.5.0",
            "_model_name": "ButtonStyleModel",
            "_view_count": null,
            "_view_module": "@jupyter-widgets/base",
            "_view_module_version": "1.2.0",
            "_view_name": "StyleView",
            "button_color": null,
            "font_weight": ""
          }
        },
        "bf2e2c36d59842a2972bd3b5963032ec": {
          "model_module": "@jupyter-widgets/output",
          "model_name": "OutputModel",
          "model_module_version": "1.0.0",
          "state": {
            "_dom_classes": [],
            "_model_module": "@jupyter-widgets/output",
            "_model_module_version": "1.0.0",
            "_model_name": "OutputModel",
            "_view_count": null,
            "_view_module": "@jupyter-widgets/output",
            "_view_module_version": "1.0.0",
            "_view_name": "OutputView",
            "layout": "IPY_MODEL_e1fd322bc7694df5ad365f40d38584d8",
            "msg_id": "",
            "outputs": [
              {
                "output_type": "stream",
                "name": "stdout",
                "text": [
                  "Next Day's Routine Prediction:\n",
                  "next_day_sleep_hours: 7.02\n",
                  "next_day_study_hours: 3.67\n",
                  "next_day_social_media_hours: 3.32\n",
                  "next_day_exercise_hours: 2.26\n",
                  "next_day_hobbies_hours: 1.48\n"
                ]
              }
            ]
          }
        },
        "e1fd322bc7694df5ad365f40d38584d8": {
          "model_module": "@jupyter-widgets/base",
          "model_name": "LayoutModel",
          "model_module_version": "1.2.0",
          "state": {
            "_model_module": "@jupyter-widgets/base",
            "_model_module_version": "1.2.0",
            "_model_name": "LayoutModel",
            "_view_count": null,
            "_view_module": "@jupyter-widgets/base",
            "_view_module_version": "1.2.0",
            "_view_name": "LayoutView",
            "align_content": null,
            "align_items": null,
            "align_self": null,
            "border": null,
            "bottom": null,
            "display": null,
            "flex": null,
            "flex_flow": null,
            "grid_area": null,
            "grid_auto_columns": null,
            "grid_auto_flow": null,
            "grid_auto_rows": null,
            "grid_column": null,
            "grid_gap": null,
            "grid_row": null,
            "grid_template_areas": null,
            "grid_template_columns": null,
            "grid_template_rows": null,
            "height": null,
            "justify_content": null,
            "justify_items": null,
            "left": null,
            "margin": null,
            "max_height": null,
            "max_width": null,
            "min_height": null,
            "min_width": null,
            "object_fit": null,
            "object_position": null,
            "order": null,
            "overflow": null,
            "overflow_x": null,
            "overflow_y": null,
            "padding": null,
            "right": null,
            "top": null,
            "visibility": null,
            "width": null
          }
        }
      }
    }
  },
  "cells": [
    {
      "cell_type": "markdown",
      "metadata": {
        "id": "view-in-github",
        "colab_type": "text"
      },
      "source": [
        "<a href=\"https://colab.research.google.com/github/arpita0911/student-daily-routine-model/blob/main/Arpita_Singh_aiml_assignment3.ipynb\" target=\"_parent\"><img src=\"https://colab.research.google.com/assets/colab-badge.svg\" alt=\"Open In Colab\"/></a>"
      ]
    },
    {
      "cell_type": "markdown",
      "source": [
        "# **Student's daily routine analysis**"
      ],
      "metadata": {
        "id": "IdwYmdkgKnB6"
      }
    },
    {
      "cell_type": "markdown",
      "source": [
        "## Importing Libraries\n",
        "\n"
      ],
      "metadata": {
        "id": "yjduyrJqWQWi"
      }
    },
    {
      "cell_type": "code",
      "source": [
        "import pandas as pd\n",
        "from sklearn.model_selection import train_test_split\n",
        "from sklearn.ensemble import RandomForestRegressor\n",
        "from sklearn.metrics import mean_squared_error\n",
        "import matplotlib.pyplot as plt\n",
        "import joblib\n",
        "\n",
        "\n"
      ],
      "metadata": {
        "id": "B_53cEW8Wc5O"
      },
      "execution_count": 3,
      "outputs": []
    },
    {
      "cell_type": "markdown",
      "source": [
        "## Loading Dataset"
      ],
      "metadata": {
        "id": "UeFGSkdxWlLS"
      }
    },
    {
      "cell_type": "code",
      "source": [
        "data = pd.read_csv('/content/student_routine_data.csv')"
      ],
      "metadata": {
        "id": "6FR1tu_XYYvM"
      },
      "execution_count": 7,
      "outputs": []
    },
    {
      "cell_type": "markdown",
      "source": [
        "### First 5 rows"
      ],
      "metadata": {
        "id": "3ldSzqKwatYi"
      }
    },
    {
      "cell_type": "code",
      "source": [
        "print(\"Original Data:\")\n",
        "print(data.head())"
      ],
      "metadata": {
        "colab": {
          "base_uri": "https://localhost:8080/"
        },
        "id": "ACuVqSAra3R3",
        "outputId": "0645bd71-ac1d-4d0a-f69b-5a615d3bfb08"
      },
      "execution_count": 8,
      "outputs": [
        {
          "output_type": "stream",
          "name": "stdout",
          "text": [
            "Original Data:\n",
            "  sleep_hours  sleep_time wake_up_time   exam_sleep_hours study_hours  \\\n",
            "0   6-8 hours     12-2 am       6-8 am          4-6 hours   1-2 hours   \n",
            "1   6-8 hours  after 2 am      8-10 am  less than 4 hours   2-4 hours   \n",
            "2   6-8 hours     12-2 am      8-10 am          6-8 hours   4-6 hours   \n",
            "3   4-6 hours     12-2 am       6-8 am  less than 4 hours   4-6 hours   \n",
            "4   6-8 hours     12-2 am      8-10 am          4-6 hours   2-4 hours   \n",
            "\n",
            "       schedule_type class_hours  assignment_hours social_media_hours  \\\n",
            "0  flexible schedule   5-7 hours         1-2 hours          1-2 hours   \n",
            "1  flexible schedule   7-9 hours  less than 1 hour          1-2 hours   \n",
            "2  flexible schedule   5-7 hours         1-2 hours          2-4 hours   \n",
            "3  flexible schedule   5-7 hours         1-2 hours          1-2 hours   \n",
            "4  flexible schedule   5-7 hours         1-2 hours          1-2 hours   \n",
            "\n",
            "      hobbies_hours exercise_participation exercise_hours   break_frequency  \\\n",
            "0  less than 1 hour              sometimes            NaN  every 30 minutes   \n",
            "1  less than 1 hour              sometimes      2-4 hours        every hour   \n",
            "2         1-2 hours                    yes      6-8 hours        every hour   \n",
            "3         1-2 hours              sometimes      2-4 hours        every hour   \n",
            "4         2-3 hours                    yes      2-4 hours        every hour   \n",
            "\n",
            "        mental_hours active_period            meal_hours time_efficiency  \n",
            "0  less than 2 hours         night              2+ hours              no  \n",
            "1  less than 2 hours       morning  30 minutes to 1 hour             yes  \n",
            "2  less than 2 hours     afternoon  less than 30 minutes             yes  \n",
            "3  less than 2 hours         night  30 minutes to 1 hour              no  \n",
            "4  less than 2 hours         night  30 minutes to 1 hour              no  \n"
          ]
        }
      ]
    },
    {
      "cell_type": "markdown",
      "source": [
        "## Data Preprocessing"
      ],
      "metadata": {
        "id": "I_i1iD8LbXup"
      }
    },
    {
      "cell_type": "markdown",
      "source": [
        "### Converting Categorical Values to Numerical Values"
      ],
      "metadata": {
        "id": "Rt0Qc9oObd-t"
      }
    },
    {
      "cell_type": "code",
      "source": [
        "expected_columns = ['sleep_hours', 'class_hours', 'assignment_hours', 'exam_sleep_hours',\n",
        "                    'study_hours', 'social_media_hours', 'hobbies_hours',\n",
        "                    'exercise_hours', 'mental_hours', 'meal_hours', 'sleep_time', 'wake_up_time']\n",
        "\n",
        "# Inspect unique values in relevant columns\n",
        "for column in expected_columns:\n",
        "    print(f\"Unique values in {column}: {data[column].unique()}\")\n",
        "\n",
        "# Mapping time duration to numeric values\n",
        "def map_hours(value):\n",
        "\n",
        "    if value == '6-8 hours':\n",
        "        return 7\n",
        "    elif value == 'less than 4 hours':\n",
        "        return 3\n",
        "    elif value == '4-6 hours':\n",
        "        return 5\n",
        "    elif value == '8+ hours':\n",
        "        return 9\n",
        "    elif value == '1-2 hours':\n",
        "        return 2\n",
        "    elif value == '2-4 hours':\n",
        "        return 3\n",
        "    elif value == '6+ hours':\n",
        "        return 7\n",
        "    elif value == '3+ hours':\n",
        "        return 4\n",
        "    elif value == '2+ hours':\n",
        "        return 3\n",
        "    elif value == 'more than 6 hours':\n",
        "        return 7\n",
        "    elif value == '1-3 hours':\n",
        "        return 2\n",
        "    elif value == '3-5 hours':\n",
        "        return 4\n",
        "    elif value == '5-7 hours':\n",
        "        return 6\n",
        "    elif value == '7-9 hours':\n",
        "        return 8\n",
        "    elif value == 'less than 1 hour':\n",
        "        return 0\n",
        "    elif value == 'less than 2 hours':\n",
        "        return 1\n",
        "    elif value == 'less than 30 minutes':\n",
        "        return 0\n",
        "    elif value == '30 minutes to 1 hour':\n",
        "        return 1\n",
        "    elif value == '2-3 hours':\n",
        "        return 3\n",
        "    elif value == '3-4 hours':\n",
        "        return 4\n",
        "    elif value == '7-9 hours':\n",
        "        return 8\n",
        "    elif value == '12-2 am':\n",
        "        return 1  # Midpoint is 1:00 am\n",
        "    elif value == '8-10 pm':\n",
        "        return 21  # Midpoint is 9:00 pm\n",
        "    elif value == '10-12 pm':\n",
        "        return 23  # Midpoint is 11:00 pm\n",
        "    elif value == 'after 2 am':\n",
        "        return 3  # Represents 3:00 am\n",
        "    elif value == '4-6 am':\n",
        "        return 5  # Represents 5:00 am\n",
        "    elif value == '6-8 am':\n",
        "        return 7  # Represents 7:00 am\n",
        "    elif value == '8-10 am':\n",
        "        return 9  # Represents 9:00 am\n",
        "    elif value == 'after 10 am':\n",
        "        return 11  # Represents 11:00 am\n",
        "\n",
        "    return None  # Return None for unmatched values\n",
        "\n",
        "# Replace existing columns with numeric versions\n",
        "for column in expected_columns:\n",
        "    if column in data.columns:\n",
        "        data[column] = data[column].apply(map_hours)\n",
        "\n",
        "# Fill missing values in the 'exercise_hours' column with 0\n",
        "data['exercise_hours'].fillna(0, inplace=True)\n",
        "\n",
        "# Mapping for ordinal encoding\n",
        "ordinal_mapping = {\n",
        "    'no schedule': 0,\n",
        "    'flexible schedule': 1,\n",
        "    'strict schedule': 2,\n",
        "    'no': 0,\n",
        "    'sometimes': 1,\n",
        "    'yes': 2,\n",
        "    'never': 0,\n",
        "    'rarely': 1,\n",
        "    'every hour': 2,\n",
        "    'every 30 minutes': 3,\n",
        "    'morning': 0,\n",
        "    'afternoon': 1,\n",
        "    'evening': 2,\n",
        "    'night': 3\n",
        "}\n",
        "\n",
        "# Apply the mapping to the 'schedule_type' column\n",
        "data['schedule_type'] = data['schedule_type'].map(ordinal_mapping)\n",
        "# Apply the mapping to the 'participation' column\n",
        "data['exercise_participation'] = data['exercise_participation'].map(ordinal_mapping)\n",
        "# Apply the mapping to the 'break_frequency' column\n",
        "data['break_frequency'] = data['break_frequency'].map(ordinal_mapping)\n",
        "# Apply the mapping to the 'active_period' column\n",
        "data['active_period'] = data['active_period'].map(ordinal_mapping)\n",
        "# Apply the mapping to the 'time_efficiency' column\n",
        "data['time_efficiency'] = data['time_efficiency'].map(ordinal_mapping)\n"
      ],
      "metadata": {
        "colab": {
          "base_uri": "https://localhost:8080/"
        },
        "id": "1LhWNkFMbmGz",
        "outputId": "277349e6-f38b-4409-cc29-65bbb03c669a"
      },
      "execution_count": 9,
      "outputs": [
        {
          "output_type": "stream",
          "name": "stdout",
          "text": [
            "Unique values in sleep_hours: ['6-8 hours' '4-6 hours' '8+ hours' 'less than 4 hours']\n",
            "Unique values in class_hours: ['5-7 hours' '7-9 hours' '3-5 hours' '1-3 hours']\n",
            "Unique values in assignment_hours: ['1-2 hours' 'less than 1 hour' '2-3 hours' '3-4 hours']\n",
            "Unique values in exam_sleep_hours: ['4-6 hours' 'less than 4 hours' '6-8 hours' '8+ hours']\n",
            "Unique values in study_hours: ['1-2 hours' '2-4 hours' '4-6 hours' '6+ hours']\n",
            "Unique values in social_media_hours: ['1-2 hours' '2-4 hours' '4-6 hours' 'more than 6 hours']\n",
            "Unique values in hobbies_hours: ['less than 1 hour' '1-2 hours' '2-3 hours' '3+ hours']\n",
            "Unique values in exercise_hours: [nan '2-4 hours' '6-8 hours' '4-6 hours' '8+ hours']\n",
            "Unique values in mental_hours: ['less than 2 hours' '2-4 hours' '6+ hours' '4-6 hours']\n",
            "Unique values in meal_hours: ['2+ hours' '30 minutes to 1 hour' 'less than 30 minutes' '1-2 hours']\n",
            "Unique values in sleep_time: ['12-2 am' 'after 2 am' '10-12 pm' '8-10 pm']\n",
            "Unique values in wake_up_time: ['6-8 am' '8-10 am' 'after 10 am' '4-6 am']\n"
          ]
        },
        {
          "output_type": "stream",
          "name": "stderr",
          "text": [
            "<ipython-input-9-91eefd962d3b>:79: FutureWarning: A value is trying to be set on a copy of a DataFrame or Series through chained assignment using an inplace method.\n",
            "The behavior will change in pandas 3.0. This inplace method will never work because the intermediate object on which we are setting values always behaves as a copy.\n",
            "\n",
            "For example, when doing 'df[col].method(value, inplace=True)', try using 'df.method({col: value}, inplace=True)' or df[col] = df[col].method(value) instead, to perform the operation inplace on the original object.\n",
            "\n",
            "\n",
            "  data['exercise_hours'].fillna(0, inplace=True)\n"
          ]
        }
      ]
    },
    {
      "cell_type": "markdown",
      "source": [
        "### Transformed DataFrame (first 5 rows)"
      ],
      "metadata": {
        "id": "xkBJvYhXcy4C"
      }
    },
    {
      "cell_type": "code",
      "source": [
        "print(\"\\nTransformed Data:\")\n",
        "print(data.head())"
      ],
      "metadata": {
        "colab": {
          "base_uri": "https://localhost:8080/"
        },
        "id": "as1zIhIfc3-h",
        "outputId": "88784c38-efe8-4fa4-c342-0f8b0158befd"
      },
      "execution_count": 10,
      "outputs": [
        {
          "output_type": "stream",
          "name": "stdout",
          "text": [
            "\n",
            "Transformed Data:\n",
            "   sleep_hours  sleep_time  wake_up_time  exam_sleep_hours  study_hours  \\\n",
            "0            7           1             7                 5            2   \n",
            "1            7           3             9                 3            3   \n",
            "2            7           1             9                 7            5   \n",
            "3            5           1             7                 3            5   \n",
            "4            7           1             9                 5            3   \n",
            "\n",
            "   schedule_type  class_hours  assignment_hours  social_media_hours  \\\n",
            "0              1            6                 2                   2   \n",
            "1              1            8                 0                   2   \n",
            "2              1            6                 2                   3   \n",
            "3              1            6                 2                   2   \n",
            "4              1            6                 2                   2   \n",
            "\n",
            "   hobbies_hours  exercise_participation  exercise_hours  break_frequency  \\\n",
            "0              0                       1             0.0                3   \n",
            "1              0                       1             3.0                2   \n",
            "2              2                       2             7.0                2   \n",
            "3              2                       1             3.0                2   \n",
            "4              3                       2             3.0                2   \n",
            "\n",
            "   mental_hours  active_period  meal_hours  time_efficiency  \n",
            "0             1              3           3                0  \n",
            "1             1              0           1                2  \n",
            "2             1              1           0                2  \n",
            "3             1              3           1                0  \n",
            "4             1              3           1                0  \n"
          ]
        }
      ]
    },
    {
      "cell_type": "markdown",
      "source": [
        "## Model Building"
      ],
      "metadata": {
        "id": "eheJvL2GdjYl"
      }
    },
    {
      "cell_type": "markdown",
      "source": [
        "###  Shift target variables by one day to create next-day targets"
      ],
      "metadata": {
        "id": "lh8HTEiLduHU"
      }
    },
    {
      "cell_type": "code",
      "source": [
        "data['next_day_sleep_hours'] = data['sleep_hours'].shift(-1)\n",
        "data['next_day_study_hours'] = data['study_hours'].shift(-1)\n",
        "data['next_day_social_media_hours'] = data['social_media_hours'].shift(-1)\n",
        "data['next_day_exercise_hours'] = data['exercise_hours'].shift(-1)\n",
        "data['next_day_hobbies_hours'] = data['hobbies_hours'].shift(-1)"
      ],
      "metadata": {
        "id": "1MA0ogp2dym3"
      },
      "execution_count": 11,
      "outputs": []
    },
    {
      "cell_type": "markdown",
      "source": [
        "### Drop the last row with NaN values (because there's no next day data for it)"
      ],
      "metadata": {
        "id": "fWb7Xv7od2Db"
      }
    },
    {
      "cell_type": "code",
      "source": [
        "data = data.dropna()"
      ],
      "metadata": {
        "id": "O2WgmRrMd6_L"
      },
      "execution_count": 12,
      "outputs": []
    },
    {
      "cell_type": "markdown",
      "source": [
        "###  Define features (X) as today's data and targets (y) for next day's subset of routine"
      ],
      "metadata": {
        "id": "yRTRD4speAch"
      }
    },
    {
      "cell_type": "code",
      "source": [
        "X = data[['sleep_hours', 'sleep_time', 'wake_up_time', 'exam_sleep_hours',\n",
        "          'study_hours', 'schedule_type', 'class_hours', 'assignment_hours',\n",
        "          'social_media_hours', 'hobbies_hours', 'exercise_participation',\n",
        "          'exercise_hours', 'break_frequency', 'mental_hours',\n",
        "          'active_period', 'meal_hours', 'time_efficiency']]\n",
        "\n",
        "y = data[['next_day_sleep_hours', 'next_day_study_hours',\n",
        "          'next_day_social_media_hours', 'next_day_exercise_hours',\n",
        "          'next_day_hobbies_hours']]"
      ],
      "metadata": {
        "id": "NMESV9XzeFAK"
      },
      "execution_count": 13,
      "outputs": []
    },
    {
      "cell_type": "markdown",
      "source": [
        "### Split the data into training and testing sets"
      ],
      "metadata": {
        "id": "tvAqlPoreL7J"
      }
    },
    {
      "cell_type": "code",
      "source": [
        "X_train, X_test, y_train, y_test = train_test_split(X, y, test_size=0.3, random_state=42)"
      ],
      "metadata": {
        "id": "QP4DiXrHeOon"
      },
      "execution_count": 14,
      "outputs": []
    },
    {
      "cell_type": "markdown",
      "source": [
        "###  Initialize and train the model"
      ],
      "metadata": {
        "id": "VrKfRYFjeW6V"
      }
    },
    {
      "cell_type": "code",
      "source": [
        "model = RandomForestRegressor(random_state=42)\n",
        "model.fit(X_train, y_train)\n",
        "\n",
        "joblib.dump(model, 'model.pkl')\n",
        "\n",
        "import os\n",
        "model_path = os.path.join(os.getcwd(), 'model.pkl')\n",
        "print(model_path)"
      ],
      "metadata": {
        "colab": {
          "base_uri": "https://localhost:8080/"
        },
        "id": "zeYBe92eebfC",
        "outputId": "a83e44b2-7ad6-4095-bc37-53fb3204c895"
      },
      "execution_count": 15,
      "outputs": [
        {
          "output_type": "stream",
          "name": "stdout",
          "text": [
            "/content/model.pkl\n"
          ]
        }
      ]
    },
    {
      "cell_type": "markdown",
      "source": [
        "### Predict the next day's specific routine hours for the test set"
      ],
      "metadata": {
        "id": "RUXArX4-egfe"
      }
    },
    {
      "cell_type": "code",
      "source": [
        "y_pred = model.predict(X_test)"
      ],
      "metadata": {
        "id": "QR9C_LuYek89"
      },
      "execution_count": 16,
      "outputs": []
    },
    {
      "cell_type": "markdown",
      "source": [
        "### Evaluate the model's performance using Mean Squared Error (MSE)"
      ],
      "metadata": {
        "id": "rOXxGb3nesD1"
      }
    },
    {
      "cell_type": "code",
      "source": [
        "mse = mean_squared_error(y_test, y_pred)\n",
        "print(f\"Mean Squared Error: {mse:.2f}\")\n"
      ],
      "metadata": {
        "colab": {
          "base_uri": "https://localhost:8080/"
        },
        "id": "7ChncfFfewL7",
        "outputId": "d9c0d3a3-6def-42e5-b085-f94a82768d74"
      },
      "execution_count": 17,
      "outputs": [
        {
          "output_type": "stream",
          "name": "stdout",
          "text": [
            "Mean Squared Error: 2.63\n"
          ]
        }
      ]
    },
    {
      "cell_type": "markdown",
      "source": [
        "### Display predictions for the first few entries"
      ],
      "metadata": {
        "id": "mLd8JIiDe14X"
      }
    },
    {
      "cell_type": "code",
      "source": [
        "predicted_df = pd.DataFrame(y_pred, columns=y.columns)\n",
        "print(\"Predicted next day routine (first 5 rows):\")\n",
        "print(predicted_df.head())\n",
        "\n",
        "print(\"Actual next day routine (first 5 rows):\")\n",
        "print(y_test.head())"
      ],
      "metadata": {
        "colab": {
          "base_uri": "https://localhost:8080/"
        },
        "id": "NeMPvf8he4s4",
        "outputId": "d3cb53db-38f4-4124-fe4c-3607712733fc"
      },
      "execution_count": 18,
      "outputs": [
        {
          "output_type": "stream",
          "name": "stdout",
          "text": [
            "Predicted next day routine (first 5 rows):\n",
            "   next_day_sleep_hours  next_day_study_hours  next_day_social_media_hours  \\\n",
            "0                  6.94                  4.51                         3.53   \n",
            "1                  6.58                  3.51                         2.40   \n",
            "2                  6.66                  3.51                         2.55   \n",
            "3                  5.74                  3.63                         3.86   \n",
            "4                  6.24                  3.27                         2.86   \n",
            "\n",
            "   next_day_exercise_hours  next_day_hobbies_hours  \n",
            "0                     3.83                    1.06  \n",
            "1                     2.19                    0.57  \n",
            "2                     2.68                    1.25  \n",
            "3                     3.34                    0.52  \n",
            "4                     2.76                    1.08  \n",
            "Actual next day routine (first 5 rows):\n",
            "    next_day_sleep_hours  next_day_study_hours  next_day_social_media_hours  \\\n",
            "62                   3.0                   2.0                          2.0   \n",
            "40                   7.0                   7.0                          2.0   \n",
            "94                   7.0                   2.0                          2.0   \n",
            "18                   7.0                   5.0                          3.0   \n",
            "81                   7.0                   2.0                          3.0   \n",
            "\n",
            "    next_day_exercise_hours  next_day_hobbies_hours  \n",
            "62                      3.0                     3.0  \n",
            "40                      3.0                     0.0  \n",
            "94                      0.0                     0.0  \n",
            "18                      0.0                     0.0  \n",
            "81                      0.0                     0.0  \n"
          ]
        }
      ]
    },
    {
      "cell_type": "markdown",
      "source": [
        "##User Interface"
      ],
      "metadata": {
        "id": "g4JY85F7MCeV"
      }
    },
    {
      "cell_type": "code",
      "source": [
        "!pip install ipywidgets\n"
      ],
      "metadata": {
        "colab": {
          "base_uri": "https://localhost:8080/"
        },
        "collapsed": true,
        "id": "hOMGnDU7MDxV",
        "outputId": "d0bcb5ab-7052-49c3-8674-6fef2dce49d6"
      },
      "execution_count": 19,
      "outputs": [
        {
          "output_type": "stream",
          "name": "stdout",
          "text": [
            "Requirement already satisfied: ipywidgets in /usr/local/lib/python3.10/dist-packages (7.7.1)\n",
            "Requirement already satisfied: ipykernel>=4.5.1 in /usr/local/lib/python3.10/dist-packages (from ipywidgets) (5.5.6)\n",
            "Requirement already satisfied: ipython-genutils~=0.2.0 in /usr/local/lib/python3.10/dist-packages (from ipywidgets) (0.2.0)\n",
            "Requirement already satisfied: traitlets>=4.3.1 in /usr/local/lib/python3.10/dist-packages (from ipywidgets) (5.7.1)\n",
            "Requirement already satisfied: widgetsnbextension~=3.6.0 in /usr/local/lib/python3.10/dist-packages (from ipywidgets) (3.6.10)\n",
            "Requirement already satisfied: ipython>=4.0.0 in /usr/local/lib/python3.10/dist-packages (from ipywidgets) (7.34.0)\n",
            "Requirement already satisfied: jupyterlab-widgets>=1.0.0 in /usr/local/lib/python3.10/dist-packages (from ipywidgets) (3.0.13)\n",
            "Requirement already satisfied: jupyter-client in /usr/local/lib/python3.10/dist-packages (from ipykernel>=4.5.1->ipywidgets) (6.1.12)\n",
            "Requirement already satisfied: tornado>=4.2 in /usr/local/lib/python3.10/dist-packages (from ipykernel>=4.5.1->ipywidgets) (6.3.3)\n",
            "Requirement already satisfied: setuptools>=18.5 in /usr/local/lib/python3.10/dist-packages (from ipython>=4.0.0->ipywidgets) (75.1.0)\n",
            "Collecting jedi>=0.16 (from ipython>=4.0.0->ipywidgets)\n",
            "  Downloading jedi-0.19.2-py2.py3-none-any.whl.metadata (22 kB)\n",
            "Requirement already satisfied: decorator in /usr/local/lib/python3.10/dist-packages (from ipython>=4.0.0->ipywidgets) (4.4.2)\n",
            "Requirement already satisfied: pickleshare in /usr/local/lib/python3.10/dist-packages (from ipython>=4.0.0->ipywidgets) (0.7.5)\n",
            "Requirement already satisfied: prompt-toolkit!=3.0.0,!=3.0.1,<3.1.0,>=2.0.0 in /usr/local/lib/python3.10/dist-packages (from ipython>=4.0.0->ipywidgets) (3.0.48)\n",
            "Requirement already satisfied: pygments in /usr/local/lib/python3.10/dist-packages (from ipython>=4.0.0->ipywidgets) (2.18.0)\n",
            "Requirement already satisfied: backcall in /usr/local/lib/python3.10/dist-packages (from ipython>=4.0.0->ipywidgets) (0.2.0)\n",
            "Requirement already satisfied: matplotlib-inline in /usr/local/lib/python3.10/dist-packages (from ipython>=4.0.0->ipywidgets) (0.1.7)\n",
            "Requirement already satisfied: pexpect>4.3 in /usr/local/lib/python3.10/dist-packages (from ipython>=4.0.0->ipywidgets) (4.9.0)\n",
            "Requirement already satisfied: notebook>=4.4.1 in /usr/local/lib/python3.10/dist-packages (from widgetsnbextension~=3.6.0->ipywidgets) (6.5.5)\n",
            "Requirement already satisfied: parso<0.9.0,>=0.8.4 in /usr/local/lib/python3.10/dist-packages (from jedi>=0.16->ipython>=4.0.0->ipywidgets) (0.8.4)\n",
            "Requirement already satisfied: jinja2 in /usr/local/lib/python3.10/dist-packages (from notebook>=4.4.1->widgetsnbextension~=3.6.0->ipywidgets) (3.1.4)\n",
            "Requirement already satisfied: pyzmq<25,>=17 in /usr/local/lib/python3.10/dist-packages (from notebook>=4.4.1->widgetsnbextension~=3.6.0->ipywidgets) (24.0.1)\n",
            "Requirement already satisfied: argon2-cffi in /usr/local/lib/python3.10/dist-packages (from notebook>=4.4.1->widgetsnbextension~=3.6.0->ipywidgets) (23.1.0)\n",
            "Requirement already satisfied: jupyter-core>=4.6.1 in /usr/local/lib/python3.10/dist-packages (from notebook>=4.4.1->widgetsnbextension~=3.6.0->ipywidgets) (5.7.2)\n",
            "Requirement already satisfied: nbformat in /usr/local/lib/python3.10/dist-packages (from notebook>=4.4.1->widgetsnbextension~=3.6.0->ipywidgets) (5.10.4)\n",
            "Requirement already satisfied: nbconvert>=5 in /usr/local/lib/python3.10/dist-packages (from notebook>=4.4.1->widgetsnbextension~=3.6.0->ipywidgets) (7.16.4)\n",
            "Requirement already satisfied: nest-asyncio>=1.5 in /usr/local/lib/python3.10/dist-packages (from notebook>=4.4.1->widgetsnbextension~=3.6.0->ipywidgets) (1.6.0)\n",
            "Requirement already satisfied: Send2Trash>=1.8.0 in /usr/local/lib/python3.10/dist-packages (from notebook>=4.4.1->widgetsnbextension~=3.6.0->ipywidgets) (1.8.3)\n",
            "Requirement already satisfied: terminado>=0.8.3 in /usr/local/lib/python3.10/dist-packages (from notebook>=4.4.1->widgetsnbextension~=3.6.0->ipywidgets) (0.18.1)\n",
            "Requirement already satisfied: prometheus-client in /usr/local/lib/python3.10/dist-packages (from notebook>=4.4.1->widgetsnbextension~=3.6.0->ipywidgets) (0.21.0)\n",
            "Requirement already satisfied: nbclassic>=0.4.7 in /usr/local/lib/python3.10/dist-packages (from notebook>=4.4.1->widgetsnbextension~=3.6.0->ipywidgets) (1.1.0)\n",
            "Requirement already satisfied: python-dateutil>=2.1 in /usr/local/lib/python3.10/dist-packages (from jupyter-client->ipykernel>=4.5.1->ipywidgets) (2.8.2)\n",
            "Requirement already satisfied: ptyprocess>=0.5 in /usr/local/lib/python3.10/dist-packages (from pexpect>4.3->ipython>=4.0.0->ipywidgets) (0.7.0)\n",
            "Requirement already satisfied: wcwidth in /usr/local/lib/python3.10/dist-packages (from prompt-toolkit!=3.0.0,!=3.0.1,<3.1.0,>=2.0.0->ipython>=4.0.0->ipywidgets) (0.2.13)\n",
            "Requirement already satisfied: platformdirs>=2.5 in /usr/local/lib/python3.10/dist-packages (from jupyter-core>=4.6.1->notebook>=4.4.1->widgetsnbextension~=3.6.0->ipywidgets) (4.3.6)\n",
            "Requirement already satisfied: notebook-shim>=0.2.3 in /usr/local/lib/python3.10/dist-packages (from nbclassic>=0.4.7->notebook>=4.4.1->widgetsnbextension~=3.6.0->ipywidgets) (0.2.4)\n",
            "Requirement already satisfied: beautifulsoup4 in /usr/local/lib/python3.10/dist-packages (from nbconvert>=5->notebook>=4.4.1->widgetsnbextension~=3.6.0->ipywidgets) (4.12.3)\n",
            "Requirement already satisfied: bleach!=5.0.0 in /usr/local/lib/python3.10/dist-packages (from nbconvert>=5->notebook>=4.4.1->widgetsnbextension~=3.6.0->ipywidgets) (6.2.0)\n",
            "Requirement already satisfied: defusedxml in /usr/local/lib/python3.10/dist-packages (from nbconvert>=5->notebook>=4.4.1->widgetsnbextension~=3.6.0->ipywidgets) (0.7.1)\n",
            "Requirement already satisfied: jupyterlab-pygments in /usr/local/lib/python3.10/dist-packages (from nbconvert>=5->notebook>=4.4.1->widgetsnbextension~=3.6.0->ipywidgets) (0.3.0)\n",
            "Requirement already satisfied: markupsafe>=2.0 in /usr/local/lib/python3.10/dist-packages (from nbconvert>=5->notebook>=4.4.1->widgetsnbextension~=3.6.0->ipywidgets) (3.0.2)\n",
            "Requirement already satisfied: mistune<4,>=2.0.3 in /usr/local/lib/python3.10/dist-packages (from nbconvert>=5->notebook>=4.4.1->widgetsnbextension~=3.6.0->ipywidgets) (3.0.2)\n",
            "Requirement already satisfied: nbclient>=0.5.0 in /usr/local/lib/python3.10/dist-packages (from nbconvert>=5->notebook>=4.4.1->widgetsnbextension~=3.6.0->ipywidgets) (0.10.0)\n",
            "Requirement already satisfied: packaging in /usr/local/lib/python3.10/dist-packages (from nbconvert>=5->notebook>=4.4.1->widgetsnbextension~=3.6.0->ipywidgets) (24.1)\n",
            "Requirement already satisfied: pandocfilters>=1.4.1 in /usr/local/lib/python3.10/dist-packages (from nbconvert>=5->notebook>=4.4.1->widgetsnbextension~=3.6.0->ipywidgets) (1.5.1)\n",
            "Requirement already satisfied: tinycss2 in /usr/local/lib/python3.10/dist-packages (from nbconvert>=5->notebook>=4.4.1->widgetsnbextension~=3.6.0->ipywidgets) (1.4.0)\n",
            "Requirement already satisfied: fastjsonschema>=2.15 in /usr/local/lib/python3.10/dist-packages (from nbformat->notebook>=4.4.1->widgetsnbextension~=3.6.0->ipywidgets) (2.20.0)\n",
            "Requirement already satisfied: jsonschema>=2.6 in /usr/local/lib/python3.10/dist-packages (from nbformat->notebook>=4.4.1->widgetsnbextension~=3.6.0->ipywidgets) (4.23.0)\n",
            "Requirement already satisfied: six>=1.5 in /usr/local/lib/python3.10/dist-packages (from python-dateutil>=2.1->jupyter-client->ipykernel>=4.5.1->ipywidgets) (1.16.0)\n",
            "Requirement already satisfied: argon2-cffi-bindings in /usr/local/lib/python3.10/dist-packages (from argon2-cffi->notebook>=4.4.1->widgetsnbextension~=3.6.0->ipywidgets) (21.2.0)\n",
            "Requirement already satisfied: webencodings in /usr/local/lib/python3.10/dist-packages (from bleach!=5.0.0->nbconvert>=5->notebook>=4.4.1->widgetsnbextension~=3.6.0->ipywidgets) (0.5.1)\n",
            "Requirement already satisfied: attrs>=22.2.0 in /usr/local/lib/python3.10/dist-packages (from jsonschema>=2.6->nbformat->notebook>=4.4.1->widgetsnbextension~=3.6.0->ipywidgets) (24.2.0)\n",
            "Requirement already satisfied: jsonschema-specifications>=2023.03.6 in /usr/local/lib/python3.10/dist-packages (from jsonschema>=2.6->nbformat->notebook>=4.4.1->widgetsnbextension~=3.6.0->ipywidgets) (2024.10.1)\n",
            "Requirement already satisfied: referencing>=0.28.4 in /usr/local/lib/python3.10/dist-packages (from jsonschema>=2.6->nbformat->notebook>=4.4.1->widgetsnbextension~=3.6.0->ipywidgets) (0.35.1)\n",
            "Requirement already satisfied: rpds-py>=0.7.1 in /usr/local/lib/python3.10/dist-packages (from jsonschema>=2.6->nbformat->notebook>=4.4.1->widgetsnbextension~=3.6.0->ipywidgets) (0.20.1)\n",
            "Requirement already satisfied: jupyter-server<3,>=1.8 in /usr/local/lib/python3.10/dist-packages (from notebook-shim>=0.2.3->nbclassic>=0.4.7->notebook>=4.4.1->widgetsnbextension~=3.6.0->ipywidgets) (1.24.0)\n",
            "Requirement already satisfied: cffi>=1.0.1 in /usr/local/lib/python3.10/dist-packages (from argon2-cffi-bindings->argon2-cffi->notebook>=4.4.1->widgetsnbextension~=3.6.0->ipywidgets) (1.17.1)\n",
            "Requirement already satisfied: soupsieve>1.2 in /usr/local/lib/python3.10/dist-packages (from beautifulsoup4->nbconvert>=5->notebook>=4.4.1->widgetsnbextension~=3.6.0->ipywidgets) (2.6)\n",
            "Requirement already satisfied: pycparser in /usr/local/lib/python3.10/dist-packages (from cffi>=1.0.1->argon2-cffi-bindings->argon2-cffi->notebook>=4.4.1->widgetsnbextension~=3.6.0->ipywidgets) (2.22)\n",
            "Requirement already satisfied: anyio<4,>=3.1.0 in /usr/local/lib/python3.10/dist-packages (from jupyter-server<3,>=1.8->notebook-shim>=0.2.3->nbclassic>=0.4.7->notebook>=4.4.1->widgetsnbextension~=3.6.0->ipywidgets) (3.7.1)\n",
            "Requirement already satisfied: websocket-client in /usr/local/lib/python3.10/dist-packages (from jupyter-server<3,>=1.8->notebook-shim>=0.2.3->nbclassic>=0.4.7->notebook>=4.4.1->widgetsnbextension~=3.6.0->ipywidgets) (1.8.0)\n",
            "Requirement already satisfied: idna>=2.8 in /usr/local/lib/python3.10/dist-packages (from anyio<4,>=3.1.0->jupyter-server<3,>=1.8->notebook-shim>=0.2.3->nbclassic>=0.4.7->notebook>=4.4.1->widgetsnbextension~=3.6.0->ipywidgets) (3.10)\n",
            "Requirement already satisfied: sniffio>=1.1 in /usr/local/lib/python3.10/dist-packages (from anyio<4,>=3.1.0->jupyter-server<3,>=1.8->notebook-shim>=0.2.3->nbclassic>=0.4.7->notebook>=4.4.1->widgetsnbextension~=3.6.0->ipywidgets) (1.3.1)\n",
            "Requirement already satisfied: exceptiongroup in /usr/local/lib/python3.10/dist-packages (from anyio<4,>=3.1.0->jupyter-server<3,>=1.8->notebook-shim>=0.2.3->nbclassic>=0.4.7->notebook>=4.4.1->widgetsnbextension~=3.6.0->ipywidgets) (1.2.2)\n",
            "Downloading jedi-0.19.2-py2.py3-none-any.whl (1.6 MB)\n",
            "\u001b[2K   \u001b[90m━━━━━━━━━━━━━━━━━━━━━━━━━━━━━━━━━━━━━━━━\u001b[0m \u001b[32m1.6/1.6 MB\u001b[0m \u001b[31m18.9 MB/s\u001b[0m eta \u001b[36m0:00:00\u001b[0m\n",
            "\u001b[?25hInstalling collected packages: jedi\n",
            "Successfully installed jedi-0.19.2\n"
          ]
        }
      ]
    },
    {
      "cell_type": "code",
      "source": [
        "import joblib\n",
        "import numpy as np\n",
        "import ipywidgets as widgets\n",
        "from IPython.display import display\n",
        "\n",
        "# Load the model\n",
        "model = joblib.load('model.pkl')\n",
        "\n",
        "# Define widgets for each input\n",
        "inputs = {}\n",
        "for feature in [\n",
        "    'sleep_hours', 'sleep_time', 'wake_up_time', 'exam_sleep_hours',\n",
        "    'study_hours', 'schedule_type', 'class_hours', 'assignment_hours',\n",
        "    'social_media_hours', 'hobbies_hours', 'exercise_participation',\n",
        "    'exercise_hours', 'break_frequency', 'mental_hours',\n",
        "    'active_period', 'meal_hours', 'time_efficiency'\n",
        "]:\n",
        "    inputs[feature] = widgets.FloatText(description=feature)\n",
        "\n",
        "# Define button and output display\n",
        "button = widgets.Button(description=\"Predict\")\n",
        "output = widgets.Output()\n",
        "\n",
        "# Define prediction function\n",
        "def on_button_click(b):\n",
        "    input_data = np.array([inputs[feature].value for feature in inputs]).reshape(1, -1)\n",
        "    prediction = model.predict(input_data)\n",
        "\n",
        "    # Display results\n",
        "    with output:\n",
        "        output.clear_output()\n",
        "        print(\"Next Day's Routine Prediction:\")\n",
        "        for i, target in enumerate([\n",
        "            'next_day_sleep_hours', 'next_day_study_hours', 'next_day_social_media_hours',\n",
        "            'next_day_exercise_hours', 'next_day_hobbies_hours'\n",
        "        ]):\n",
        "            print(f\"{target}: {prediction[0][i]:.2f}\")\n",
        "\n",
        "# Bind prediction function to button\n",
        "button.on_click(on_button_click)\n",
        "\n",
        "# Display widgets\n",
        "display(*inputs.values(), button, output)\n"
      ],
      "metadata": {
        "colab": {
          "base_uri": "https://localhost:8080/",
          "height": 720,
          "referenced_widgets": [
            "1495fd135adf4e93b8cbd3c8c04faa06",
            "39229debe3564ecd8dc63226b253b363",
            "1daf45c188684100b940259be7e7e15f",
            "a513d08536534fcebd2991c7f8fe9e43",
            "c3cde203e5934d95a35800581d2f37d8",
            "24d2f75dca8b4a6b96f589a2cf4e3700",
            "131df09055cb4c3a880b63e2ed9e920a",
            "738f0dd56959489d98d02225fb7da605",
            "bae191e09025441e91b949c491ad9abe",
            "5155a72cffe64861bd58dfe3f4673b57",
            "bcdf3b25ce2f440ca668b9bee9bb6af3",
            "d164f2a5ad5d4b2096255ac3e3fafd5a",
            "73010940235d477099fa989fe5bf6ff7",
            "ddd378a913d141fb9abb23906e65174a",
            "2c57476484544dfdae4127cf36da6c6f",
            "0f1f25bb48b541ffaea2fd91dc20b6bb",
            "f31e8c2363a94ccd8262bfbd6a805ef1",
            "2e182884617340dabd255ed98ff02351",
            "1af75aea4e1449c6a8769bc3502bf494",
            "eaa317f6a3d94cf5afc6ed3e17d94e4a",
            "006fc4a97e1e4b46ab74cb8e08cf13a5",
            "235e3592139149299fb1ef307bd1ebd0",
            "db4873985d3143f581c58b2fb8f8f39b",
            "8d5a923c982846acacc2d5b54388b146",
            "b0c8393b5d9544fbb537984f7ffa3b50",
            "693757d472df4c4aa4faabb2baae5aab",
            "51217da998a54a3e89f6567ea0466245",
            "e20769d923374d968555579ad1d4cf26",
            "ac3988f520a64435829fa29b7fa56b8e",
            "76450bbc712f48758b4a3b10ed0096db",
            "481e756ae42f4d53997cafd0a50b5973",
            "6c093da7b5b242ecac4f2acf4617dc56",
            "7aa4e4c1cf6548b99b536fab8aa80864",
            "62420a08a3944013ab81760a2416ec1b",
            "4a1e05f6d19d4e39acd6cacf5d49fa58",
            "28b24553f25348f8a6b16c599e32ed71",
            "5e69b7db4875465cadeb320b169798c6",
            "f466c38b30dd47938087123e52d8c100",
            "70d36a9fa6934174acb4070186dab124",
            "f3e383f9af2f41c5851bc639284c0772",
            "a0d8bbab459d44c68a6e8c52228a2c2d",
            "143c0f2480f74086abe8510325c4f9a0",
            "0bf5e216686d4ab4b135302c775ac8ef",
            "8704cf8867514f6e9e633d0c6e54831c",
            "646199d42ae341c7ab3280a93e88c55f",
            "3cd5240f1a124ec29abb1f028ce96340",
            "19266ad12970475e81e9475af8d2f9b9",
            "f7bb007293bf4912b9c6dafb62f6396c",
            "5d62755efb8b458eb44f5406e3c734f2",
            "a4913ed5606a4c368c798d3316099b56",
            "fedab33412044113a48136ca56b61e02",
            "b0c755ee2c7f4f0fb3618ab16e777afd",
            "65b8cbe903f042259d8d7b1ee9c4c8b2",
            "0486bfb8f66c42b7863777d789b14582",
            "bf2e2c36d59842a2972bd3b5963032ec",
            "e1fd322bc7694df5ad365f40d38584d8"
          ]
        },
        "id": "JpEgaJaOMRgE",
        "outputId": "c288be72-1a9b-474d-cc1b-53309c3a4454"
      },
      "execution_count": 20,
      "outputs": [
        {
          "output_type": "display_data",
          "data": {
            "text/plain": [
              "FloatText(value=0.0, description='sleep_hours')"
            ],
            "application/vnd.jupyter.widget-view+json": {
              "version_major": 2,
              "version_minor": 0,
              "model_id": "1495fd135adf4e93b8cbd3c8c04faa06"
            }
          },
          "metadata": {}
        },
        {
          "output_type": "display_data",
          "data": {
            "text/plain": [
              "FloatText(value=0.0, description='sleep_time')"
            ],
            "application/vnd.jupyter.widget-view+json": {
              "version_major": 2,
              "version_minor": 0,
              "model_id": "a513d08536534fcebd2991c7f8fe9e43"
            }
          },
          "metadata": {}
        },
        {
          "output_type": "display_data",
          "data": {
            "text/plain": [
              "FloatText(value=0.0, description='wake_up_time')"
            ],
            "application/vnd.jupyter.widget-view+json": {
              "version_major": 2,
              "version_minor": 0,
              "model_id": "131df09055cb4c3a880b63e2ed9e920a"
            }
          },
          "metadata": {}
        },
        {
          "output_type": "display_data",
          "data": {
            "text/plain": [
              "FloatText(value=0.0, description='exam_sleep_hours')"
            ],
            "application/vnd.jupyter.widget-view+json": {
              "version_major": 2,
              "version_minor": 0,
              "model_id": "5155a72cffe64861bd58dfe3f4673b57"
            }
          },
          "metadata": {}
        },
        {
          "output_type": "display_data",
          "data": {
            "text/plain": [
              "FloatText(value=0.0, description='study_hours')"
            ],
            "application/vnd.jupyter.widget-view+json": {
              "version_major": 2,
              "version_minor": 0,
              "model_id": "73010940235d477099fa989fe5bf6ff7"
            }
          },
          "metadata": {}
        },
        {
          "output_type": "display_data",
          "data": {
            "text/plain": [
              "FloatText(value=0.0, description='schedule_type')"
            ],
            "application/vnd.jupyter.widget-view+json": {
              "version_major": 2,
              "version_minor": 0,
              "model_id": "0f1f25bb48b541ffaea2fd91dc20b6bb"
            }
          },
          "metadata": {}
        },
        {
          "output_type": "display_data",
          "data": {
            "text/plain": [
              "FloatText(value=0.0, description='class_hours')"
            ],
            "application/vnd.jupyter.widget-view+json": {
              "version_major": 2,
              "version_minor": 0,
              "model_id": "1af75aea4e1449c6a8769bc3502bf494"
            }
          },
          "metadata": {}
        },
        {
          "output_type": "display_data",
          "data": {
            "text/plain": [
              "FloatText(value=0.0, description='assignment_hours')"
            ],
            "application/vnd.jupyter.widget-view+json": {
              "version_major": 2,
              "version_minor": 0,
              "model_id": "235e3592139149299fb1ef307bd1ebd0"
            }
          },
          "metadata": {}
        },
        {
          "output_type": "display_data",
          "data": {
            "text/plain": [
              "FloatText(value=0.0, description='social_media_hours')"
            ],
            "application/vnd.jupyter.widget-view+json": {
              "version_major": 2,
              "version_minor": 0,
              "model_id": "b0c8393b5d9544fbb537984f7ffa3b50"
            }
          },
          "metadata": {}
        },
        {
          "output_type": "display_data",
          "data": {
            "text/plain": [
              "FloatText(value=0.0, description='hobbies_hours')"
            ],
            "application/vnd.jupyter.widget-view+json": {
              "version_major": 2,
              "version_minor": 0,
              "model_id": "e20769d923374d968555579ad1d4cf26"
            }
          },
          "metadata": {}
        },
        {
          "output_type": "display_data",
          "data": {
            "text/plain": [
              "FloatText(value=0.0, description='exercise_participation')"
            ],
            "application/vnd.jupyter.widget-view+json": {
              "version_major": 2,
              "version_minor": 0,
              "model_id": "481e756ae42f4d53997cafd0a50b5973"
            }
          },
          "metadata": {}
        },
        {
          "output_type": "display_data",
          "data": {
            "text/plain": [
              "FloatText(value=0.0, description='exercise_hours')"
            ],
            "application/vnd.jupyter.widget-view+json": {
              "version_major": 2,
              "version_minor": 0,
              "model_id": "62420a08a3944013ab81760a2416ec1b"
            }
          },
          "metadata": {}
        },
        {
          "output_type": "display_data",
          "data": {
            "text/plain": [
              "FloatText(value=0.0, description='break_frequency')"
            ],
            "application/vnd.jupyter.widget-view+json": {
              "version_major": 2,
              "version_minor": 0,
              "model_id": "5e69b7db4875465cadeb320b169798c6"
            }
          },
          "metadata": {}
        },
        {
          "output_type": "display_data",
          "data": {
            "text/plain": [
              "FloatText(value=0.0, description='mental_hours')"
            ],
            "application/vnd.jupyter.widget-view+json": {
              "version_major": 2,
              "version_minor": 0,
              "model_id": "f3e383f9af2f41c5851bc639284c0772"
            }
          },
          "metadata": {}
        },
        {
          "output_type": "display_data",
          "data": {
            "text/plain": [
              "FloatText(value=0.0, description='active_period')"
            ],
            "application/vnd.jupyter.widget-view+json": {
              "version_major": 2,
              "version_minor": 0,
              "model_id": "0bf5e216686d4ab4b135302c775ac8ef"
            }
          },
          "metadata": {}
        },
        {
          "output_type": "display_data",
          "data": {
            "text/plain": [
              "FloatText(value=0.0, description='meal_hours')"
            ],
            "application/vnd.jupyter.widget-view+json": {
              "version_major": 2,
              "version_minor": 0,
              "model_id": "3cd5240f1a124ec29abb1f028ce96340"
            }
          },
          "metadata": {}
        },
        {
          "output_type": "display_data",
          "data": {
            "text/plain": [
              "FloatText(value=0.0, description='time_efficiency')"
            ],
            "application/vnd.jupyter.widget-view+json": {
              "version_major": 2,
              "version_minor": 0,
              "model_id": "5d62755efb8b458eb44f5406e3c734f2"
            }
          },
          "metadata": {}
        },
        {
          "output_type": "display_data",
          "data": {
            "text/plain": [
              "Button(description='Predict', style=ButtonStyle())"
            ],
            "application/vnd.jupyter.widget-view+json": {
              "version_major": 2,
              "version_minor": 0,
              "model_id": "b0c755ee2c7f4f0fb3618ab16e777afd"
            }
          },
          "metadata": {}
        },
        {
          "output_type": "display_data",
          "data": {
            "text/plain": [
              "Output()"
            ],
            "application/vnd.jupyter.widget-view+json": {
              "version_major": 2,
              "version_minor": 0,
              "model_id": "bf2e2c36d59842a2972bd3b5963032ec"
            }
          },
          "metadata": {}
        },
        {
          "output_type": "stream",
          "name": "stderr",
          "text": [
            "/usr/local/lib/python3.10/dist-packages/sklearn/base.py:493: UserWarning: X does not have valid feature names, but RandomForestRegressor was fitted with feature names\n",
            "  warnings.warn(\n"
          ]
        }
      ]
    },
    {
      "cell_type": "markdown",
      "source": [
        "##Association Rules"
      ],
      "metadata": {
        "id": "WRPdtC-3Sl7b"
      }
    },
    {
      "cell_type": "code",
      "source": [
        "import pandas as pd\n",
        "from mlxtend.frequent_patterns import apriori, association_rules\n",
        "from sklearn.preprocessing import KBinsDiscretizer\n",
        "\n",
        "frequent_itemsets = apriori(onehot_data, min_support=0.1, use_colnames=True)\n",
        "\n",
        "num_itemsets = len(frequent_itemsets)\n",
        "\n",
        "rules = association_rules(frequent_itemsets, metric=\"lift\", min_threshold=1.0, num_itemsets=num_itemsets)\n",
        "\n",
        "print(rules)"
      ],
      "metadata": {
        "colab": {
          "base_uri": "https://localhost:8080/"
        },
        "id": "H0CtEqkqSxHI",
        "outputId": "bad391f9-c89f-4cb1-bf66-9fe83e5f742a"
      },
      "execution_count": 23,
      "outputs": [
        {
          "output_type": "stream",
          "name": "stderr",
          "text": [
            "/usr/local/lib/python3.10/dist-packages/ipykernel/ipkernel.py:283: DeprecationWarning: `should_run_async` will not call `transform_cell` automatically in the future. Please pass the result to `transformed_cell` argument and any exception that happen during thetransform in `preprocessing_exc_tuple` in IPython 7.17 and above.\n",
            "  and should_run_async(code)\n"
          ]
        },
        {
          "output_type": "stream",
          "name": "stdout",
          "text": [
            "                      antecedents  \\\n",
            "0                (sleep_time_0.0)   \n",
            "1               (sleep_hours_1.0)   \n",
            "2               (sleep_hours_1.0)   \n",
            "3              (wake_up_time_1.0)   \n",
            "4               (sleep_hours_1.0)   \n",
            "...                           ...   \n",
            "98197  (next_day_sleep_hours_3.0)   \n",
            "98198           (sleep_hours_3.0)   \n",
            "98199       (time_efficiency_4.0)   \n",
            "98200        (exercise_hours_1.0)   \n",
            "98201         (active_period_0.0)   \n",
            "\n",
            "                                             consequents  antecedent support  \\\n",
            "0                                      (sleep_hours_1.0)            0.602041   \n",
            "1                                       (sleep_time_0.0)            0.316327   \n",
            "2                                     (wake_up_time_1.0)            0.316327   \n",
            "3                                      (sleep_hours_1.0)            0.510204   \n",
            "4                                 (exam_sleep_hours_0.0)            0.316327   \n",
            "...                                                  ...                 ...   \n",
            "98197  (next_day_hobbies_hours_0.0, mental_hours_0.0,...            0.551020   \n",
            "98198  (next_day_hobbies_hours_0.0, mental_hours_0.0,...            0.561224   \n",
            "98199  (next_day_hobbies_hours_0.0, mental_hours_0.0,...            0.571429   \n",
            "98200  (next_day_hobbies_hours_0.0, mental_hours_0.0,...            0.551020   \n",
            "98201  (next_day_hobbies_hours_0.0, mental_hours_0.0,...            0.428571   \n",
            "\n",
            "       consequent support   support  confidence      lift  representativity  \\\n",
            "0                0.316327  0.244898    0.406780  1.285949               1.0   \n",
            "1                0.602041  0.244898    0.774194  1.285949               1.0   \n",
            "2                0.510204  0.173469    0.548387  1.074839               1.0   \n",
            "3                0.316327  0.173469    0.340000  1.074839               1.0   \n",
            "4                0.295918  0.153061    0.483871  1.635150               1.0   \n",
            "...                   ...       ...         ...       ...               ...   \n",
            "98197            0.112245  0.102041    0.185185  1.649832               1.0   \n",
            "98198            0.102041  0.102041    0.181818  1.781818               1.0   \n",
            "98199            0.112245  0.102041    0.178571  1.590909               1.0   \n",
            "98200            0.102041  0.102041    0.185185  1.814815               1.0   \n",
            "98201            0.102041  0.102041    0.238095  2.333333               1.0   \n",
            "\n",
            "       leverage  conviction  zhangs_metric   jaccard  certainty  kulczynski  \n",
            "0      0.054456    1.152478       0.558761  0.363636   0.132305    0.590487  \n",
            "1      0.054456    1.762391       0.325249  0.363636   0.432589    0.590487  \n",
            "2      0.012078    1.084548       0.101844  0.265625   0.077957    0.444194  \n",
            "3      0.012078    1.035869       0.142157  0.265625   0.034627    0.444194  \n",
            "4      0.059454    1.364158       0.568159  0.333333   0.266947    0.500556  \n",
            "...         ...         ...            ...       ...        ...         ...  \n",
            "98197  0.040192    1.089518       0.877273  0.181818   0.082163    0.547138  \n",
            "98198  0.044773    1.097506       1.000000  0.181818   0.088843    0.590909  \n",
            "98199  0.037901    1.080745       0.866667  0.175439   0.074713    0.543831  \n",
            "98200  0.045814    1.102041       1.000000  0.185185   0.092593    0.592593  \n",
            "98201  0.058309    1.178571       1.000000  0.238095   0.151515    0.619048  \n",
            "\n",
            "[98202 rows x 14 columns]\n"
          ]
        }
      ]
    }
  ]
}